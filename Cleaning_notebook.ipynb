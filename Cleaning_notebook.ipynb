{
 "cells": [
  {
   "cell_type": "code",
   "execution_count": 173,
   "id": "ad788aca",
   "metadata": {},
   "outputs": [],
   "source": [
    "import numpy as np\n",
    "import pandas as pd\n",
    "import seaborn as sns\n",
    "import matplotlib.pyplot as plt\n",
    "%matplotlib inline"
   ]
  },
  {
   "cell_type": "code",
   "execution_count": 73,
   "id": "ae783571",
   "metadata": {},
   "outputs": [
    {
     "name": "stderr",
     "output_type": "stream",
     "text": [
      "C:\\Users\\Oreoluwa\\AppData\\Local\\Temp\\ipykernel_17876\\4215608658.py:1: DtypeWarning: Columns (76) have mixed types. Specify dtype option on import or set low_memory=False.\n",
      "  df = pd.read_csv(\"fifa21_raw_data.csv\")\n"
     ]
    }
   ],
   "source": [
    "df = pd.read_csv(\"fifa21_raw_data.csv\")"
   ]
  },
  {
   "cell_type": "code",
   "execution_count": 74,
   "id": "294ae010",
   "metadata": {},
   "outputs": [
    {
     "name": "stdout",
     "output_type": "stream",
     "text": [
      "<class 'pandas.core.frame.DataFrame'>\n",
      "RangeIndex: 18979 entries, 0 to 18978\n",
      "Data columns (total 77 columns):\n",
      " #   Column            Non-Null Count  Dtype \n",
      "---  ------            --------------  ----- \n",
      " 0   photoUrl          18979 non-null  object\n",
      " 1   LongName          18979 non-null  object\n",
      " 2   playerUrl         18979 non-null  object\n",
      " 3   Nationality       18979 non-null  object\n",
      " 4   Positions         18979 non-null  object\n",
      " 5   Name              18979 non-null  object\n",
      " 6   Age               18979 non-null  int64 \n",
      " 7   ↓OVA              18979 non-null  int64 \n",
      " 8   POT               18979 non-null  int64 \n",
      " 9   Team & Contract   18979 non-null  object\n",
      " 10  ID                18979 non-null  int64 \n",
      " 11  Height            18979 non-null  object\n",
      " 12  Weight            18979 non-null  object\n",
      " 13  foot              18979 non-null  object\n",
      " 14  BOV               18979 non-null  int64 \n",
      " 15  BP                18979 non-null  object\n",
      " 16  Growth            18979 non-null  int64 \n",
      " 17  Joined            18979 non-null  object\n",
      " 18  Loan Date End     1013 non-null   object\n",
      " 19  Value             18979 non-null  object\n",
      " 20  Wage              18979 non-null  object\n",
      " 21  Release Clause    18979 non-null  object\n",
      " 22  Attacking         18979 non-null  int64 \n",
      " 23  Crossing          18979 non-null  int64 \n",
      " 24  Finishing         18979 non-null  int64 \n",
      " 25  Heading Accuracy  18979 non-null  int64 \n",
      " 26  Short Passing     18979 non-null  int64 \n",
      " 27  Volleys           18979 non-null  int64 \n",
      " 28  Skill             18979 non-null  int64 \n",
      " 29  Dribbling         18979 non-null  int64 \n",
      " 30  Curve             18979 non-null  int64 \n",
      " 31  FK Accuracy       18979 non-null  int64 \n",
      " 32  Long Passing      18979 non-null  int64 \n",
      " 33  Ball Control      18979 non-null  int64 \n",
      " 34  Movement          18979 non-null  int64 \n",
      " 35  Acceleration      18979 non-null  int64 \n",
      " 36  Sprint Speed      18979 non-null  int64 \n",
      " 37  Agility           18979 non-null  int64 \n",
      " 38  Reactions         18979 non-null  int64 \n",
      " 39  Balance           18979 non-null  int64 \n",
      " 40  Power             18979 non-null  int64 \n",
      " 41  Shot Power        18979 non-null  int64 \n",
      " 42  Jumping           18979 non-null  int64 \n",
      " 43  Stamina           18979 non-null  int64 \n",
      " 44  Strength          18979 non-null  int64 \n",
      " 45  Long Shots        18979 non-null  int64 \n",
      " 46  Mentality         18979 non-null  int64 \n",
      " 47  Aggression        18979 non-null  int64 \n",
      " 48  Interceptions     18979 non-null  int64 \n",
      " 49  Positioning       18979 non-null  int64 \n",
      " 50  Vision            18979 non-null  int64 \n",
      " 51  Penalties         18979 non-null  int64 \n",
      " 52  Composure         18979 non-null  int64 \n",
      " 53  Defending         18979 non-null  int64 \n",
      " 54  Marking           18979 non-null  int64 \n",
      " 55  Standing Tackle   18979 non-null  int64 \n",
      " 56  Sliding Tackle    18979 non-null  int64 \n",
      " 57  Goalkeeping       18979 non-null  int64 \n",
      " 58  GK Diving         18979 non-null  int64 \n",
      " 59  GK Handling       18979 non-null  int64 \n",
      " 60  GK Kicking        18979 non-null  int64 \n",
      " 61  GK Positioning    18979 non-null  int64 \n",
      " 62  GK Reflexes       18979 non-null  int64 \n",
      " 63  Total Stats       18979 non-null  int64 \n",
      " 64  Base Stats        18979 non-null  int64 \n",
      " 65  W/F               18979 non-null  object\n",
      " 66  SM                18979 non-null  object\n",
      " 67  A/W               18979 non-null  object\n",
      " 68  D/W               18979 non-null  object\n",
      " 69  IR                18979 non-null  object\n",
      " 70  PAC               18979 non-null  int64 \n",
      " 71  SHO               18979 non-null  int64 \n",
      " 72  PAS               18979 non-null  int64 \n",
      " 73  DRI               18979 non-null  int64 \n",
      " 74  DEF               18979 non-null  int64 \n",
      " 75  PHY               18979 non-null  int64 \n",
      " 76  Hits              18979 non-null  object\n",
      "dtypes: int64(55), object(22)\n",
      "memory usage: 11.1+ MB\n"
     ]
    }
   ],
   "source": [
    "df.info()"
   ]
  },
  {
   "cell_type": "code",
   "execution_count": 75,
   "id": "e339774c",
   "metadata": {},
   "outputs": [
    {
     "data": {
      "text/plain": [
       "0         5'7\"\n",
       "1         6'2\"\n",
       "2         6'2\"\n",
       "3        5'11\"\n",
       "4         5'9\"\n",
       "         ...  \n",
       "18974    5'10\"\n",
       "18975     5'7\"\n",
       "18976    5'10\"\n",
       "18977     5'9\"\n",
       "18978     5'9\"\n",
       "Name: Height, Length: 18979, dtype: object"
      ]
     },
     "execution_count": 75,
     "metadata": {},
     "output_type": "execute_result"
    }
   ],
   "source": [
    "df['Height']"
   ]
  },
  {
   "cell_type": "markdown",
   "id": "6ac955aa",
   "metadata": {},
   "source": [
    "The code below is to convert the \"Height\" and \"Weight\" columns to int data type"
   ]
  },
  {
   "cell_type": "code",
   "execution_count": 76,
   "id": "00905e2a",
   "metadata": {},
   "outputs": [],
   "source": [
    "def feet_to_cm(height):\n",
    "    height = height.split(\"'\")\n",
    "    cm = int(height[0]) *2.54*12\n",
    "    \n",
    "    inches = []\n",
    "    for i in height[1][0:-1]:\n",
    "        inches.append(i)\n",
    "    \n",
    "        \n",
    "    if len(inches) == 0:\n",
    "        return cm\n",
    "    else:   \n",
    "        inch = \"\".join(inches)\n",
    "        cm += int(inch) *2.54\n",
    "    \n",
    "    return cm"
   ]
  },
  {
   "cell_type": "code",
   "execution_count": 77,
   "id": "7bb170ad",
   "metadata": {},
   "outputs": [
    {
     "data": {
      "text/plain": [
       "170.17999999999998"
      ]
     },
     "execution_count": 77,
     "metadata": {},
     "output_type": "execute_result"
    }
   ],
   "source": [
    "feet_to_cm(df['Height'][0])"
   ]
  },
  {
   "cell_type": "code",
   "execution_count": 78,
   "id": "a683adef",
   "metadata": {},
   "outputs": [],
   "source": [
    "df['Height(in Cm)'] = df['Height'].apply(lambda x: feet_to_cm(x))"
   ]
  },
  {
   "cell_type": "code",
   "execution_count": 79,
   "id": "97efe53c",
   "metadata": {},
   "outputs": [
    {
     "data": {
      "text/plain": [
       "0        159lbs\n",
       "1        183lbs\n",
       "2        192lbs\n",
       "3        154lbs\n",
       "4        150lbs\n",
       "          ...  \n",
       "18974    154lbs\n",
       "18975    128lbs\n",
       "18976    146lbs\n",
       "18977    143lbs\n",
       "18978    150lbs\n",
       "Name: Weight, Length: 18979, dtype: object"
      ]
     },
     "execution_count": 79,
     "metadata": {},
     "output_type": "execute_result"
    }
   ],
   "source": [
    "df['Weight']"
   ]
  },
  {
   "cell_type": "code",
   "execution_count": 80,
   "id": "38497c9b",
   "metadata": {},
   "outputs": [],
   "source": [
    "def weight_to_int(weight):\n",
    "    return int(weight[:-3])"
   ]
  },
  {
   "cell_type": "code",
   "execution_count": 81,
   "id": "428b8141",
   "metadata": {},
   "outputs": [],
   "source": [
    "df['Weight(lbs)'] = df[\"Weight\"].apply(lambda x: weight_to_int(x))"
   ]
  },
  {
   "cell_type": "code",
   "execution_count": 86,
   "id": "4232ee5a",
   "metadata": {},
   "outputs": [],
   "source": [
    "df.drop(\"Weight\",axis = 1,inplace = True)"
   ]
  },
  {
   "cell_type": "code",
   "execution_count": 82,
   "id": "93cab834",
   "metadata": {},
   "outputs": [],
   "source": [
    "df.drop(\"Height\",axis = 1,inplace = True)"
   ]
  },
  {
   "cell_type": "code",
   "execution_count": 116,
   "id": "5a1b463f",
   "metadata": {},
   "outputs": [
    {
     "data": {
      "text/html": [
       "<div>\n",
       "<style scoped>\n",
       "    .dataframe tbody tr th:only-of-type {\n",
       "        vertical-align: middle;\n",
       "    }\n",
       "\n",
       "    .dataframe tbody tr th {\n",
       "        vertical-align: top;\n",
       "    }\n",
       "\n",
       "    .dataframe thead th {\n",
       "        text-align: right;\n",
       "    }\n",
       "</style>\n",
       "<table border=\"1\" class=\"dataframe\">\n",
       "  <thead>\n",
       "    <tr style=\"text-align: right;\">\n",
       "      <th></th>\n",
       "      <th>photoUrl</th>\n",
       "      <th>LongName</th>\n",
       "      <th>playerUrl</th>\n",
       "      <th>Nationality</th>\n",
       "      <th>Positions</th>\n",
       "      <th>Name</th>\n",
       "      <th>Age</th>\n",
       "      <th>↓OVA</th>\n",
       "      <th>POT</th>\n",
       "      <th>Team &amp; Contract</th>\n",
       "      <th>...</th>\n",
       "      <th>IR</th>\n",
       "      <th>PAC</th>\n",
       "      <th>SHO</th>\n",
       "      <th>PAS</th>\n",
       "      <th>DRI</th>\n",
       "      <th>DEF</th>\n",
       "      <th>PHY</th>\n",
       "      <th>Hits</th>\n",
       "      <th>Height(in Cm)</th>\n",
       "      <th>Weight(lbs)</th>\n",
       "    </tr>\n",
       "  </thead>\n",
       "  <tbody>\n",
       "    <tr>\n",
       "      <th>0</th>\n",
       "      <td>https://cdn.sofifa.com/players/158/023/21_60.png</td>\n",
       "      <td>Lionel Messi</td>\n",
       "      <td>http://sofifa.com/player/158023/lionel-messi/2...</td>\n",
       "      <td>Argentina</td>\n",
       "      <td>RW ST CF</td>\n",
       "      <td>L. Messi</td>\n",
       "      <td>33</td>\n",
       "      <td>93</td>\n",
       "      <td>93</td>\n",
       "      <td>FC Barcelona2004 ~ 2021</td>\n",
       "      <td>...</td>\n",
       "      <td>5 ★</td>\n",
       "      <td>85</td>\n",
       "      <td>92</td>\n",
       "      <td>91</td>\n",
       "      <td>95</td>\n",
       "      <td>38</td>\n",
       "      <td>65</td>\n",
       "      <td>372</td>\n",
       "      <td>170.18</td>\n",
       "      <td>159</td>\n",
       "    </tr>\n",
       "    <tr>\n",
       "      <th>1</th>\n",
       "      <td>https://cdn.sofifa.com/players/020/801/21_60.png</td>\n",
       "      <td>C. Ronaldo dos Santos Aveiro</td>\n",
       "      <td>http://sofifa.com/player/20801/c-ronaldo-dos-s...</td>\n",
       "      <td>Portugal</td>\n",
       "      <td>ST LW</td>\n",
       "      <td>Cristiano Ronaldo</td>\n",
       "      <td>35</td>\n",
       "      <td>92</td>\n",
       "      <td>92</td>\n",
       "      <td>Juventus2018 ~ 2022</td>\n",
       "      <td>...</td>\n",
       "      <td>5 ★</td>\n",
       "      <td>89</td>\n",
       "      <td>93</td>\n",
       "      <td>81</td>\n",
       "      <td>89</td>\n",
       "      <td>35</td>\n",
       "      <td>77</td>\n",
       "      <td>344</td>\n",
       "      <td>187.96</td>\n",
       "      <td>183</td>\n",
       "    </tr>\n",
       "    <tr>\n",
       "      <th>2</th>\n",
       "      <td>https://cdn.sofifa.com/players/200/389/21_60.png</td>\n",
       "      <td>Jan Oblak</td>\n",
       "      <td>http://sofifa.com/player/200389/jan-oblak/210005/</td>\n",
       "      <td>Slovenia</td>\n",
       "      <td>GK</td>\n",
       "      <td>J. Oblak</td>\n",
       "      <td>27</td>\n",
       "      <td>91</td>\n",
       "      <td>93</td>\n",
       "      <td>Atlético Madrid2014 ~ 2023</td>\n",
       "      <td>...</td>\n",
       "      <td>3 ★</td>\n",
       "      <td>87</td>\n",
       "      <td>92</td>\n",
       "      <td>78</td>\n",
       "      <td>90</td>\n",
       "      <td>52</td>\n",
       "      <td>90</td>\n",
       "      <td>86</td>\n",
       "      <td>187.96</td>\n",
       "      <td>192</td>\n",
       "    </tr>\n",
       "    <tr>\n",
       "      <th>3</th>\n",
       "      <td>https://cdn.sofifa.com/players/192/985/21_60.png</td>\n",
       "      <td>Kevin De Bruyne</td>\n",
       "      <td>http://sofifa.com/player/192985/kevin-de-bruyn...</td>\n",
       "      <td>Belgium</td>\n",
       "      <td>CAM CM</td>\n",
       "      <td>K. De Bruyne</td>\n",
       "      <td>29</td>\n",
       "      <td>91</td>\n",
       "      <td>91</td>\n",
       "      <td>Manchester City2015 ~ 2023</td>\n",
       "      <td>...</td>\n",
       "      <td>4 ★</td>\n",
       "      <td>76</td>\n",
       "      <td>86</td>\n",
       "      <td>93</td>\n",
       "      <td>88</td>\n",
       "      <td>64</td>\n",
       "      <td>78</td>\n",
       "      <td>163</td>\n",
       "      <td>180.34</td>\n",
       "      <td>154</td>\n",
       "    </tr>\n",
       "    <tr>\n",
       "      <th>4</th>\n",
       "      <td>https://cdn.sofifa.com/players/190/871/21_60.png</td>\n",
       "      <td>Neymar da Silva Santos Jr.</td>\n",
       "      <td>http://sofifa.com/player/190871/neymar-da-silv...</td>\n",
       "      <td>Brazil</td>\n",
       "      <td>LW CAM</td>\n",
       "      <td>Neymar Jr</td>\n",
       "      <td>28</td>\n",
       "      <td>91</td>\n",
       "      <td>91</td>\n",
       "      <td>Paris Saint-Germain2017 ~ 2022</td>\n",
       "      <td>...</td>\n",
       "      <td>5 ★</td>\n",
       "      <td>91</td>\n",
       "      <td>85</td>\n",
       "      <td>86</td>\n",
       "      <td>94</td>\n",
       "      <td>36</td>\n",
       "      <td>59</td>\n",
       "      <td>273</td>\n",
       "      <td>175.26</td>\n",
       "      <td>150</td>\n",
       "    </tr>\n",
       "    <tr>\n",
       "      <th>5</th>\n",
       "      <td>https://cdn.sofifa.com/players/188/545/21_60.png</td>\n",
       "      <td>Robert Lewandowski</td>\n",
       "      <td>http://sofifa.com/player/188545/robert-lewando...</td>\n",
       "      <td>Poland</td>\n",
       "      <td>ST</td>\n",
       "      <td>R. Lewandowski</td>\n",
       "      <td>31</td>\n",
       "      <td>91</td>\n",
       "      <td>91</td>\n",
       "      <td>FC Bayern München2014 ~ 2023</td>\n",
       "      <td>...</td>\n",
       "      <td>4 ★</td>\n",
       "      <td>78</td>\n",
       "      <td>91</td>\n",
       "      <td>78</td>\n",
       "      <td>85</td>\n",
       "      <td>43</td>\n",
       "      <td>82</td>\n",
       "      <td>182</td>\n",
       "      <td>182.88</td>\n",
       "      <td>176</td>\n",
       "    </tr>\n",
       "    <tr>\n",
       "      <th>6</th>\n",
       "      <td>https://cdn.sofifa.com/players/231/747/21_60.png</td>\n",
       "      <td>Kylian Mbappé</td>\n",
       "      <td>http://sofifa.com/player/231747/kylian-mbappe/...</td>\n",
       "      <td>France</td>\n",
       "      <td>ST LW RW</td>\n",
       "      <td>K. Mbappé</td>\n",
       "      <td>21</td>\n",
       "      <td>90</td>\n",
       "      <td>95</td>\n",
       "      <td>Paris Saint-Germain2018 ~ 2022</td>\n",
       "      <td>...</td>\n",
       "      <td>3 ★</td>\n",
       "      <td>96</td>\n",
       "      <td>86</td>\n",
       "      <td>78</td>\n",
       "      <td>91</td>\n",
       "      <td>39</td>\n",
       "      <td>76</td>\n",
       "      <td>646</td>\n",
       "      <td>177.80</td>\n",
       "      <td>161</td>\n",
       "    </tr>\n",
       "    <tr>\n",
       "      <th>7</th>\n",
       "      <td>https://cdn.sofifa.com/players/212/831/21_60.png</td>\n",
       "      <td>Alisson Ramses Becker</td>\n",
       "      <td>http://sofifa.com/player/212831/alisson-ramses...</td>\n",
       "      <td>Brazil</td>\n",
       "      <td>GK</td>\n",
       "      <td>Alisson</td>\n",
       "      <td>27</td>\n",
       "      <td>90</td>\n",
       "      <td>91</td>\n",
       "      <td>Liverpool2018 ~ 2024</td>\n",
       "      <td>...</td>\n",
       "      <td>3 ★</td>\n",
       "      <td>86</td>\n",
       "      <td>88</td>\n",
       "      <td>85</td>\n",
       "      <td>89</td>\n",
       "      <td>51</td>\n",
       "      <td>91</td>\n",
       "      <td>79</td>\n",
       "      <td>190.50</td>\n",
       "      <td>201</td>\n",
       "    </tr>\n",
       "    <tr>\n",
       "      <th>8</th>\n",
       "      <td>https://cdn.sofifa.com/players/209/331/21_60.png</td>\n",
       "      <td>Mohamed Salah</td>\n",
       "      <td>http://sofifa.com/player/209331/mohamed-salah/...</td>\n",
       "      <td>Egypt</td>\n",
       "      <td>RW</td>\n",
       "      <td>M. Salah</td>\n",
       "      <td>28</td>\n",
       "      <td>90</td>\n",
       "      <td>90</td>\n",
       "      <td>Liverpool2017 ~ 2023</td>\n",
       "      <td>...</td>\n",
       "      <td>3 ★</td>\n",
       "      <td>93</td>\n",
       "      <td>86</td>\n",
       "      <td>81</td>\n",
       "      <td>90</td>\n",
       "      <td>45</td>\n",
       "      <td>75</td>\n",
       "      <td>164</td>\n",
       "      <td>175.26</td>\n",
       "      <td>157</td>\n",
       "    </tr>\n",
       "    <tr>\n",
       "      <th>9</th>\n",
       "      <td>https://cdn.sofifa.com/players/208/722/21_60.png</td>\n",
       "      <td>Sadio Mané</td>\n",
       "      <td>http://sofifa.com/player/208722/sadio-mane/210...</td>\n",
       "      <td>Senegal</td>\n",
       "      <td>LW</td>\n",
       "      <td>S. Mané</td>\n",
       "      <td>28</td>\n",
       "      <td>90</td>\n",
       "      <td>90</td>\n",
       "      <td>Liverpool2016 ~ 2023</td>\n",
       "      <td>...</td>\n",
       "      <td>3 ★</td>\n",
       "      <td>94</td>\n",
       "      <td>85</td>\n",
       "      <td>80</td>\n",
       "      <td>90</td>\n",
       "      <td>44</td>\n",
       "      <td>76</td>\n",
       "      <td>170</td>\n",
       "      <td>175.26</td>\n",
       "      <td>152</td>\n",
       "    </tr>\n",
       "  </tbody>\n",
       "</table>\n",
       "<p>10 rows × 77 columns</p>\n",
       "</div>"
      ],
      "text/plain": [
       "                                           photoUrl  \\\n",
       "0  https://cdn.sofifa.com/players/158/023/21_60.png   \n",
       "1  https://cdn.sofifa.com/players/020/801/21_60.png   \n",
       "2  https://cdn.sofifa.com/players/200/389/21_60.png   \n",
       "3  https://cdn.sofifa.com/players/192/985/21_60.png   \n",
       "4  https://cdn.sofifa.com/players/190/871/21_60.png   \n",
       "5  https://cdn.sofifa.com/players/188/545/21_60.png   \n",
       "6  https://cdn.sofifa.com/players/231/747/21_60.png   \n",
       "7  https://cdn.sofifa.com/players/212/831/21_60.png   \n",
       "8  https://cdn.sofifa.com/players/209/331/21_60.png   \n",
       "9  https://cdn.sofifa.com/players/208/722/21_60.png   \n",
       "\n",
       "                       LongName  \\\n",
       "0                  Lionel Messi   \n",
       "1  C. Ronaldo dos Santos Aveiro   \n",
       "2                     Jan Oblak   \n",
       "3               Kevin De Bruyne   \n",
       "4    Neymar da Silva Santos Jr.   \n",
       "5            Robert Lewandowski   \n",
       "6                 Kylian Mbappé   \n",
       "7         Alisson Ramses Becker   \n",
       "8                 Mohamed Salah   \n",
       "9                    Sadio Mané   \n",
       "\n",
       "                                           playerUrl Nationality Positions  \\\n",
       "0  http://sofifa.com/player/158023/lionel-messi/2...   Argentina  RW ST CF   \n",
       "1  http://sofifa.com/player/20801/c-ronaldo-dos-s...    Portugal     ST LW   \n",
       "2  http://sofifa.com/player/200389/jan-oblak/210005/    Slovenia        GK   \n",
       "3  http://sofifa.com/player/192985/kevin-de-bruyn...     Belgium    CAM CM   \n",
       "4  http://sofifa.com/player/190871/neymar-da-silv...      Brazil    LW CAM   \n",
       "5  http://sofifa.com/player/188545/robert-lewando...      Poland        ST   \n",
       "6  http://sofifa.com/player/231747/kylian-mbappe/...      France  ST LW RW   \n",
       "7  http://sofifa.com/player/212831/alisson-ramses...      Brazil        GK   \n",
       "8  http://sofifa.com/player/209331/mohamed-salah/...       Egypt        RW   \n",
       "9  http://sofifa.com/player/208722/sadio-mane/210...     Senegal        LW   \n",
       "\n",
       "                Name  Age  ↓OVA  POT                 Team & Contract  ...  \\\n",
       "0           L. Messi   33    93   93         FC Barcelona2004 ~ 2021  ...   \n",
       "1  Cristiano Ronaldo   35    92   92             Juventus2018 ~ 2022  ...   \n",
       "2           J. Oblak   27    91   93      Atlético Madrid2014 ~ 2023  ...   \n",
       "3       K. De Bruyne   29    91   91      Manchester City2015 ~ 2023  ...   \n",
       "4          Neymar Jr   28    91   91  Paris Saint-Germain2017 ~ 2022  ...   \n",
       "5     R. Lewandowski   31    91   91    FC Bayern München2014 ~ 2023  ...   \n",
       "6          K. Mbappé   21    90   95  Paris Saint-Germain2018 ~ 2022  ...   \n",
       "7            Alisson   27    90   91            Liverpool2018 ~ 2024  ...   \n",
       "8           M. Salah   28    90   90            Liverpool2017 ~ 2023  ...   \n",
       "9            S. Mané   28    90   90            Liverpool2016 ~ 2023  ...   \n",
       "\n",
       "    IR PAC  SHO PAS  DRI DEF PHY  Hits  Height(in Cm)  Weight(lbs)  \n",
       "0  5 ★  85   92  91   95  38  65   372         170.18          159  \n",
       "1  5 ★  89   93  81   89  35  77   344         187.96          183  \n",
       "2  3 ★  87   92  78   90  52  90    86         187.96          192  \n",
       "3  4 ★  76   86  93   88  64  78   163         180.34          154  \n",
       "4  5 ★  91   85  86   94  36  59   273         175.26          150  \n",
       "5  4 ★  78   91  78   85  43  82   182         182.88          176  \n",
       "6  3 ★  96   86  78   91  39  76   646         177.80          161  \n",
       "7  3 ★  86   88  85   89  51  91    79         190.50          201  \n",
       "8  3 ★  93   86  81   90  45  75   164         175.26          157  \n",
       "9  3 ★  94   85  80   90  44  76   170         175.26          152  \n",
       "\n",
       "[10 rows x 77 columns]"
      ]
     },
     "execution_count": 116,
     "metadata": {},
     "output_type": "execute_result"
    }
   ],
   "source": []
  },
  {
   "cell_type": "markdown",
   "id": "2e584bbd",
   "metadata": {},
   "source": [
    "The line below removes the unnecesary newline characters in the dataset"
   ]
  },
  {
   "cell_type": "code",
   "execution_count": 84,
   "id": "412d78ee",
   "metadata": {},
   "outputs": [],
   "source": [
    "df = df.replace(\"\\n\",\"\",regex = True)"
   ]
  },
  {
   "cell_type": "code",
   "execution_count": 87,
   "id": "ee8e8277",
   "metadata": {},
   "outputs": [
    {
     "data": {
      "text/plain": [
       "0        €67.5M\n",
       "1          €46M\n",
       "2          €75M\n",
       "3          €87M\n",
       "4          €90M\n",
       "          ...  \n",
       "18974      €35K\n",
       "18975      €60K\n",
       "18976      €40K\n",
       "18977      €60K\n",
       "18978      €60K\n",
       "Name: Value, Length: 18979, dtype: object"
      ]
     },
     "execution_count": 87,
     "metadata": {},
     "output_type": "execute_result"
    }
   ],
   "source": [
    "df['Value']"
   ]
  },
  {
   "cell_type": "code",
   "execution_count": null,
   "id": "cba34e30",
   "metadata": {},
   "outputs": [],
   "source": [
    "\"The code below is a function that converts the monetary columns(Value,Wage and Release clause) into a float data type\""
   ]
  },
  {
   "cell_type": "code",
   "execution_count": 94,
   "id": "aaa326f8",
   "metadata": {},
   "outputs": [],
   "source": [
    "def money_converter(money):\n",
    "\n",
    "    if money[-1] == 'M':\n",
    "        money = float(money[1:-1]) * 1000000\n",
    "        return money\n",
    "    \n",
    "    elif money[-1] == \"K\":\n",
    "        money = float(money[1:-1]) * 1000\n",
    "        return money\n",
    "    \n",
    "    else:\n",
    "        return 0\n",
    "    "
   ]
  },
  {
   "cell_type": "code",
   "execution_count": 104,
   "id": "de9c60ab",
   "metadata": {},
   "outputs": [],
   "source": [
    "df['Value'] = df['Value'].apply(lambda x: money_converter(x))"
   ]
  },
  {
   "cell_type": "code",
   "execution_count": 107,
   "id": "1d8c50ee",
   "metadata": {},
   "outputs": [],
   "source": [
    "df['Wage'] = df['Wage'].apply(lambda x: money_converter(x))"
   ]
  },
  {
   "cell_type": "code",
   "execution_count": 110,
   "id": "4d3098ae",
   "metadata": {},
   "outputs": [],
   "source": [
    "df['Release Clause'] = df['Release Clause'].apply(lambda x: money_converter(x))"
   ]
  },
  {
   "cell_type": "code",
   "execution_count": 189,
   "id": "402b8577",
   "metadata": {},
   "outputs": [
    {
     "name": "stdout",
     "output_type": "stream",
     "text": [
      "<class 'pandas.core.frame.DataFrame'>\n",
      "Int64Index: 18979 entries, 6 to 10933\n",
      "Data columns (total 77 columns):\n",
      " #   Column            Non-Null Count  Dtype  \n",
      "---  ------            --------------  -----  \n",
      " 0   photoUrl          18979 non-null  object \n",
      " 1   LongName          18979 non-null  object \n",
      " 2   playerUrl         18979 non-null  object \n",
      " 3   Nationality       18979 non-null  object \n",
      " 4   Positions         18979 non-null  object \n",
      " 5   Name              18979 non-null  object \n",
      " 6   Age               18979 non-null  int64  \n",
      " 7   POT               18979 non-null  int64  \n",
      " 8   Team & Contract   18979 non-null  object \n",
      " 9   ID                18979 non-null  int64  \n",
      " 10  foot              18979 non-null  object \n",
      " 11  BOV               18979 non-null  int64  \n",
      " 12  BP                18979 non-null  object \n",
      " 13  Growth            18979 non-null  int64  \n",
      " 14  Joined            18979 non-null  object \n",
      " 15  Loan Date End     1013 non-null   object \n",
      " 16  Value             18979 non-null  float64\n",
      " 17  Wage              18979 non-null  float64\n",
      " 18  Release Clause    18979 non-null  float64\n",
      " 19  Attacking         18979 non-null  int64  \n",
      " 20  Crossing          18979 non-null  int64  \n",
      " 21  Finishing         18979 non-null  int64  \n",
      " 22  Heading Accuracy  18979 non-null  int64  \n",
      " 23  Short Passing     18979 non-null  int64  \n",
      " 24  Volleys           18979 non-null  int64  \n",
      " 25  Skill             18979 non-null  int64  \n",
      " 26  Dribbling         18979 non-null  int64  \n",
      " 27  Curve             18979 non-null  int64  \n",
      " 28  FK Accuracy       18979 non-null  int64  \n",
      " 29  Long Passing      18979 non-null  int64  \n",
      " 30  Ball Control      18979 non-null  int64  \n",
      " 31  Movement          18979 non-null  int64  \n",
      " 32  Acceleration      18979 non-null  int64  \n",
      " 33  Sprint Speed      18979 non-null  int64  \n",
      " 34  Agility           18979 non-null  int64  \n",
      " 35  Reactions         18979 non-null  int64  \n",
      " 36  Balance           18979 non-null  int64  \n",
      " 37  Power             18979 non-null  int64  \n",
      " 38  Shot Power        18979 non-null  int64  \n",
      " 39  Jumping           18979 non-null  int64  \n",
      " 40  Stamina           18979 non-null  int64  \n",
      " 41  Strength          18979 non-null  int64  \n",
      " 42  Long Shots        18979 non-null  int64  \n",
      " 43  Mentality         18979 non-null  int64  \n",
      " 44  Aggression        18979 non-null  int64  \n",
      " 45  Interceptions     18979 non-null  int64  \n",
      " 46  Positioning       18979 non-null  int64  \n",
      " 47  Vision            18979 non-null  int64  \n",
      " 48  Penalties         18979 non-null  int64  \n",
      " 49  Composure         18979 non-null  int64  \n",
      " 50  Defending         18979 non-null  int64  \n",
      " 51  Marking           18979 non-null  int64  \n",
      " 52  Standing Tackle   18979 non-null  int64  \n",
      " 53  Sliding Tackle    18979 non-null  int64  \n",
      " 54  Goalkeeping       18979 non-null  int64  \n",
      " 55  GK Diving         18979 non-null  int64  \n",
      " 56  GK Handling       18979 non-null  int64  \n",
      " 57  GK Kicking        18979 non-null  int64  \n",
      " 58  GK Positioning    18979 non-null  int64  \n",
      " 59  GK Reflexes       18979 non-null  int64  \n",
      " 60  Total Stats       18979 non-null  int64  \n",
      " 61  Base Stats        18979 non-null  int64  \n",
      " 62  W/F               18979 non-null  int64  \n",
      " 63  SM                18979 non-null  int64  \n",
      " 64  A/W               18979 non-null  object \n",
      " 65  D/W               18979 non-null  object \n",
      " 66  IR                18979 non-null  int64  \n",
      " 67  PAC               18979 non-null  int64  \n",
      " 68  SHO               18979 non-null  int64  \n",
      " 69  PAS               18979 non-null  int64  \n",
      " 70  DRI               18979 non-null  int64  \n",
      " 71  DEF               18979 non-null  int64  \n",
      " 72  PHY               18979 non-null  int64  \n",
      " 73  Hits              18979 non-null  object \n",
      " 74  Height(in Cm)     18979 non-null  float64\n",
      " 75  Weight(lbs)       18979 non-null  int64  \n",
      " 76  Overall Rating    18979 non-null  int64  \n",
      "dtypes: float64(4), int64(59), object(14)\n",
      "memory usage: 11.3+ MB\n"
     ]
    }
   ],
   "source": [
    "df.info()"
   ]
  },
  {
   "cell_type": "code",
   "execution_count": 209,
   "id": "a88229fa",
   "metadata": {},
   "outputs": [
    {
     "data": {
      "text/plain": [
       "6        Paris Saint-Germain2018 ~ 2022\n",
       "4        Paris Saint-Germain2017 ~ 2022\n",
       "3            Manchester City2015 ~ 2023\n",
       "5          FC Bayern München2014 ~ 2023\n",
       "8                  Liverpool2017 ~ 2023\n",
       "                      ...              \n",
       "5392                          EgyptFree\n",
       "5389                          EgyptFree\n",
       "5323                        HungaryFree\n",
       "5288                   South AfricaFree\n",
       "10933                Al Ahli2019 ~ 2024\n",
       "Name: Team & Contract, Length: 18979, dtype: object"
      ]
     },
     "execution_count": 209,
     "metadata": {},
     "output_type": "execute_result"
    }
   ],
   "source": [
    "df['Team & Contract']"
   ]
  },
  {
   "cell_type": "code",
   "execution_count": 226,
   "id": "12f3fe8e",
   "metadata": {},
   "outputs": [
    {
     "data": {
      "text/plain": [
       "'Paris Saint-Germain'"
      ]
     },
     "execution_count": 226,
     "metadata": {},
     "output_type": "execute_result"
    }
   ],
   "source": [
    "df['Team & Contract'][0][:-11]"
   ]
  },
  {
   "cell_type": "code",
   "execution_count": 227,
   "id": "0323ca0a",
   "metadata": {},
   "outputs": [
    {
     "data": {
      "text/html": [
       "<div>\n",
       "<style scoped>\n",
       "    .dataframe tbody tr th:only-of-type {\n",
       "        vertical-align: middle;\n",
       "    }\n",
       "\n",
       "    .dataframe tbody tr th {\n",
       "        vertical-align: top;\n",
       "    }\n",
       "\n",
       "    .dataframe thead th {\n",
       "        text-align: right;\n",
       "    }\n",
       "</style>\n",
       "<table border=\"1\" class=\"dataframe\">\n",
       "  <thead>\n",
       "    <tr style=\"text-align: right;\">\n",
       "      <th></th>\n",
       "      <th>photoUrl</th>\n",
       "      <th>LongName</th>\n",
       "      <th>playerUrl</th>\n",
       "      <th>Nationality</th>\n",
       "      <th>Positions</th>\n",
       "      <th>Name</th>\n",
       "      <th>Age</th>\n",
       "      <th>POT</th>\n",
       "      <th>Team &amp; Contract</th>\n",
       "      <th>ID</th>\n",
       "      <th>...</th>\n",
       "      <th>PAC</th>\n",
       "      <th>SHO</th>\n",
       "      <th>PAS</th>\n",
       "      <th>DRI</th>\n",
       "      <th>DEF</th>\n",
       "      <th>PHY</th>\n",
       "      <th>Hits</th>\n",
       "      <th>Height(in Cm)</th>\n",
       "      <th>Weight(lbs)</th>\n",
       "      <th>Overall Rating</th>\n",
       "    </tr>\n",
       "  </thead>\n",
       "  <tbody>\n",
       "    <tr>\n",
       "      <th>0</th>\n",
       "      <td>https://cdn.sofifa.com/players/231/747/21_60.png</td>\n",
       "      <td>Kylian Mbappé</td>\n",
       "      <td>http://sofifa.com/player/231747/kylian-mbappe/...</td>\n",
       "      <td>France</td>\n",
       "      <td>ST LW RW</td>\n",
       "      <td>K. Mbappé</td>\n",
       "      <td>21</td>\n",
       "      <td>95</td>\n",
       "      <td>Paris Saint-Germain2018 ~ 2022</td>\n",
       "      <td>231747</td>\n",
       "      <td>...</td>\n",
       "      <td>96</td>\n",
       "      <td>86</td>\n",
       "      <td>78</td>\n",
       "      <td>91</td>\n",
       "      <td>39</td>\n",
       "      <td>76</td>\n",
       "      <td>646</td>\n",
       "      <td>177.80</td>\n",
       "      <td>161</td>\n",
       "      <td>90</td>\n",
       "    </tr>\n",
       "    <tr>\n",
       "      <th>1</th>\n",
       "      <td>https://cdn.sofifa.com/players/190/871/21_60.png</td>\n",
       "      <td>Neymar da Silva Santos Jr.</td>\n",
       "      <td>http://sofifa.com/player/190871/neymar-da-silv...</td>\n",
       "      <td>Brazil</td>\n",
       "      <td>LW CAM</td>\n",
       "      <td>Neymar Jr</td>\n",
       "      <td>28</td>\n",
       "      <td>91</td>\n",
       "      <td>Paris Saint-Germain2017 ~ 2022</td>\n",
       "      <td>190871</td>\n",
       "      <td>...</td>\n",
       "      <td>91</td>\n",
       "      <td>85</td>\n",
       "      <td>86</td>\n",
       "      <td>94</td>\n",
       "      <td>36</td>\n",
       "      <td>59</td>\n",
       "      <td>273</td>\n",
       "      <td>175.26</td>\n",
       "      <td>150</td>\n",
       "      <td>91</td>\n",
       "    </tr>\n",
       "    <tr>\n",
       "      <th>2</th>\n",
       "      <td>https://cdn.sofifa.com/players/192/985/21_60.png</td>\n",
       "      <td>Kevin De Bruyne</td>\n",
       "      <td>http://sofifa.com/player/192985/kevin-de-bruyn...</td>\n",
       "      <td>Belgium</td>\n",
       "      <td>CAM CM</td>\n",
       "      <td>K. De Bruyne</td>\n",
       "      <td>29</td>\n",
       "      <td>91</td>\n",
       "      <td>Manchester City2015 ~ 2023</td>\n",
       "      <td>192985</td>\n",
       "      <td>...</td>\n",
       "      <td>76</td>\n",
       "      <td>86</td>\n",
       "      <td>93</td>\n",
       "      <td>88</td>\n",
       "      <td>64</td>\n",
       "      <td>78</td>\n",
       "      <td>163</td>\n",
       "      <td>180.34</td>\n",
       "      <td>154</td>\n",
       "      <td>91</td>\n",
       "    </tr>\n",
       "    <tr>\n",
       "      <th>3</th>\n",
       "      <td>https://cdn.sofifa.com/players/188/545/21_60.png</td>\n",
       "      <td>Robert Lewandowski</td>\n",
       "      <td>http://sofifa.com/player/188545/robert-lewando...</td>\n",
       "      <td>Poland</td>\n",
       "      <td>ST</td>\n",
       "      <td>R. Lewandowski</td>\n",
       "      <td>31</td>\n",
       "      <td>91</td>\n",
       "      <td>FC Bayern München2014 ~ 2023</td>\n",
       "      <td>188545</td>\n",
       "      <td>...</td>\n",
       "      <td>78</td>\n",
       "      <td>91</td>\n",
       "      <td>78</td>\n",
       "      <td>85</td>\n",
       "      <td>43</td>\n",
       "      <td>82</td>\n",
       "      <td>182</td>\n",
       "      <td>182.88</td>\n",
       "      <td>176</td>\n",
       "      <td>91</td>\n",
       "    </tr>\n",
       "    <tr>\n",
       "      <th>4</th>\n",
       "      <td>https://cdn.sofifa.com/players/209/331/21_60.png</td>\n",
       "      <td>Mohamed Salah</td>\n",
       "      <td>http://sofifa.com/player/209331/mohamed-salah/...</td>\n",
       "      <td>Egypt</td>\n",
       "      <td>RW</td>\n",
       "      <td>M. Salah</td>\n",
       "      <td>28</td>\n",
       "      <td>90</td>\n",
       "      <td>Liverpool2017 ~ 2023</td>\n",
       "      <td>209331</td>\n",
       "      <td>...</td>\n",
       "      <td>93</td>\n",
       "      <td>86</td>\n",
       "      <td>81</td>\n",
       "      <td>90</td>\n",
       "      <td>45</td>\n",
       "      <td>75</td>\n",
       "      <td>164</td>\n",
       "      <td>175.26</td>\n",
       "      <td>157</td>\n",
       "      <td>90</td>\n",
       "    </tr>\n",
       "    <tr>\n",
       "      <th>5</th>\n",
       "      <td>https://cdn.sofifa.com/players/208/722/21_60.png</td>\n",
       "      <td>Sadio Mané</td>\n",
       "      <td>http://sofifa.com/player/208722/sadio-mane/210...</td>\n",
       "      <td>Senegal</td>\n",
       "      <td>LW</td>\n",
       "      <td>S. Mané</td>\n",
       "      <td>28</td>\n",
       "      <td>90</td>\n",
       "      <td>Liverpool2016 ~ 2023</td>\n",
       "      <td>208722</td>\n",
       "      <td>...</td>\n",
       "      <td>94</td>\n",
       "      <td>85</td>\n",
       "      <td>80</td>\n",
       "      <td>90</td>\n",
       "      <td>44</td>\n",
       "      <td>76</td>\n",
       "      <td>170</td>\n",
       "      <td>175.26</td>\n",
       "      <td>152</td>\n",
       "      <td>90</td>\n",
       "    </tr>\n",
       "  </tbody>\n",
       "</table>\n",
       "<p>6 rows × 77 columns</p>\n",
       "</div>"
      ],
      "text/plain": [
       "                                           photoUrl  \\\n",
       "0  https://cdn.sofifa.com/players/231/747/21_60.png   \n",
       "1  https://cdn.sofifa.com/players/190/871/21_60.png   \n",
       "2  https://cdn.sofifa.com/players/192/985/21_60.png   \n",
       "3  https://cdn.sofifa.com/players/188/545/21_60.png   \n",
       "4  https://cdn.sofifa.com/players/209/331/21_60.png   \n",
       "5  https://cdn.sofifa.com/players/208/722/21_60.png   \n",
       "\n",
       "                     LongName  \\\n",
       "0               Kylian Mbappé   \n",
       "1  Neymar da Silva Santos Jr.   \n",
       "2             Kevin De Bruyne   \n",
       "3          Robert Lewandowski   \n",
       "4               Mohamed Salah   \n",
       "5                  Sadio Mané   \n",
       "\n",
       "                                           playerUrl Nationality Positions  \\\n",
       "0  http://sofifa.com/player/231747/kylian-mbappe/...      France  ST LW RW   \n",
       "1  http://sofifa.com/player/190871/neymar-da-silv...      Brazil    LW CAM   \n",
       "2  http://sofifa.com/player/192985/kevin-de-bruyn...     Belgium    CAM CM   \n",
       "3  http://sofifa.com/player/188545/robert-lewando...      Poland        ST   \n",
       "4  http://sofifa.com/player/209331/mohamed-salah/...       Egypt        RW   \n",
       "5  http://sofifa.com/player/208722/sadio-mane/210...     Senegal        LW   \n",
       "\n",
       "             Name  Age  POT                 Team & Contract      ID  ... PAC  \\\n",
       "0       K. Mbappé   21   95  Paris Saint-Germain2018 ~ 2022  231747  ...  96   \n",
       "1       Neymar Jr   28   91  Paris Saint-Germain2017 ~ 2022  190871  ...  91   \n",
       "2    K. De Bruyne   29   91      Manchester City2015 ~ 2023  192985  ...  76   \n",
       "3  R. Lewandowski   31   91    FC Bayern München2014 ~ 2023  188545  ...  78   \n",
       "4        M. Salah   28   90            Liverpool2017 ~ 2023  209331  ...  93   \n",
       "5         S. Mané   28   90            Liverpool2016 ~ 2023  208722  ...  94   \n",
       "\n",
       "   SHO PAS  DRI DEF PHY  Hits  Height(in Cm)  Weight(lbs)  Overall Rating  \n",
       "0   86  78   91  39  76   646         177.80          161              90  \n",
       "1   85  86   94  36  59   273         175.26          150              91  \n",
       "2   86  93   88  64  78   163         180.34          154              91  \n",
       "3   91  78   85  43  82   182         182.88          176              91  \n",
       "4   86  81   90  45  75   164         175.26          157              90  \n",
       "5   85  80   90  44  76   170         175.26          152              90  \n",
       "\n",
       "[6 rows x 77 columns]"
      ]
     },
     "execution_count": 227,
     "metadata": {},
     "output_type": "execute_result"
    }
   ],
   "source": [
    "df.head(6)"
   ]
  },
  {
   "cell_type": "code",
   "execution_count": null,
   "id": "7c6aecc6",
   "metadata": {},
   "outputs": [],
   "source": [
    "The code below seperates the \"Team & Contract\" column into two seperate columns \"Team\" and \"Column\""
   ]
  },
  {
   "cell_type": "code",
   "execution_count": 241,
   "id": "b278f7d4",
   "metadata": {},
   "outputs": [],
   "source": [
    "def team(tc):\n",
    "    if tc[-4:] == 'Free':\n",
    "        team = tc[0:-4]\n",
    "    else:\n",
    "        team = tc[:-11]\n",
    "    return team"
   ]
  },
  {
   "cell_type": "code",
   "execution_count": 245,
   "id": "667dce5e",
   "metadata": {},
   "outputs": [],
   "source": [
    "def contract(tc):\n",
    "    if tc[-4:] == 'Free':\n",
    "        contract = \"Free Agent\"\n",
    "    else:\n",
    "        contract = tc[-11:]\n",
    "    return contract"
   ]
  },
  {
   "cell_type": "code",
   "execution_count": 242,
   "id": "b86b1d8d",
   "metadata": {},
   "outputs": [],
   "source": [
    "df['Team'] = df['Team & Contract'].apply(lambda x: team(x))"
   ]
  },
  {
   "cell_type": "code",
   "execution_count": 248,
   "id": "f9341377",
   "metadata": {},
   "outputs": [],
   "source": [
    "df['Contract']  = df['Team & Contract'].apply(lambda x: contract(x))"
   ]
  },
  {
   "cell_type": "code",
   "execution_count": 249,
   "id": "02cda373",
   "metadata": {},
   "outputs": [],
   "source": [
    "df.drop(\"Team & Contract\",axis =1,inplace = True)"
   ]
  },
  {
   "cell_type": "code",
   "execution_count": 187,
   "id": "a4dd481a",
   "metadata": {},
   "outputs": [],
   "source": [
    "df['Overall Rating'] = df['Overall']"
   ]
  },
  {
   "cell_type": "code",
   "execution_count": 185,
   "id": "d4476bac",
   "metadata": {},
   "outputs": [],
   "source": [
    "df.drop('↓OVA',axis = 1,inplace = True)"
   ]
  },
  {
   "cell_type": "markdown",
   "id": "266e2bce",
   "metadata": {},
   "source": [
    "The code below removes the star character(\"★\") from the column and converts the values to integer data type"
   ]
  },
  {
   "cell_type": "code",
   "execution_count": 149,
   "id": "a35e5ab3",
   "metadata": {},
   "outputs": [],
   "source": [
    "def star_remover(value):\n",
    "    return int(value[0])"
   ]
  },
  {
   "cell_type": "code",
   "execution_count": 151,
   "id": "ba20fa64",
   "metadata": {},
   "outputs": [],
   "source": [
    "df['W/F'] = df['W/F'].apply(lambda x: star_remover(x))"
   ]
  },
  {
   "cell_type": "code",
   "execution_count": 153,
   "id": "e65ab761",
   "metadata": {},
   "outputs": [],
   "source": [
    "df['SM'] = df['SM'].apply(lambda x: star_remover(x))"
   ]
  },
  {
   "cell_type": "code",
   "execution_count": 156,
   "id": "f4dcc3cb",
   "metadata": {},
   "outputs": [],
   "source": [
    "df['IR'] = df['IR'].apply(lambda x: star_remover(x))"
   ]
  },
  {
   "cell_type": "code",
   "execution_count": null,
   "id": "baabafda",
   "metadata": {},
   "outputs": [],
   "source": []
  },
  {
   "cell_type": "code",
   "execution_count": 167,
   "id": "b13e065e",
   "metadata": {},
   "outputs": [],
   "source": [
    "df.sort_values(by = \"Value\",ascending = False, inplace = True)"
   ]
  },
  {
   "cell_type": "code",
   "execution_count": 225,
   "id": "6b1396e9",
   "metadata": {},
   "outputs": [],
   "source": [
    "df.reset_index(drop = True,inplace = True)"
   ]
  },
  {
   "cell_type": "code",
   "execution_count": 169,
   "id": "8abfe1d2",
   "metadata": {},
   "outputs": [
    {
     "data": {
      "text/plain": [
       "<Axes: xlabel='Wage', ylabel='Value'>"
      ]
     },
     "execution_count": 169,
     "metadata": {},
     "output_type": "execute_result"
    },
    {
     "data": {
      "image/png": "[encoded data removed]",
      "text/plain": [
       "<Figure size 640x480 with 1 Axes>"
      ]
     },
     "metadata": {},
     "output_type": "display_data"
    }
   ],
   "source": [
    "sns.scatterplot(data = df[1:1000], x = \"Wage\",y = \"Value\" )"
   ]
  },
  {
   "cell_type": "code",
   "execution_count": 172,
   "id": "a25c18da",
   "metadata": {},
   "outputs": [],
   "source": [
    "import plotly.express as px"
   ]
  },
  {
   "cell_type": "code",
   "execution_count": 182,
   "id": "b2002a54",
   "metadata": {
    "scrolled": false
   },
   "outputs": [
    {
     "data": {
      "application/vnd.plotly.v1+json": {
       "config": {
        "plotlyServerURL": "https://plot.ly"
       },
       "data": [
        {
         "customdata": [
          [
           "Neymar Jr"
          ],
          [
           "K. De Bruyne"
          ],
          [
           "R. Lewandowski"
          ],
          [
           "M. Salah"
          ],
          [
           "S. Mané"
          ],
          [
           "V. van Dijk"
          ],
          [
           "J. Oblak"
          ],
          [
           "R. Sterling"
          ],
          [
           "P. Dybala"
          ],
          [
           "H. Kane"
          ],
          [
           "J. Sancho"
          ],
          [
           "M. ter Stegen"
          ],
          [
           "L. Messi"
          ],
          [
           "J. Kimmich"
          ],
          [
           "Bruno Fernandes"
          ],
          [
           "Alisson"
          ],
          [
           "Bernardo Silva"
          ],
          [
           "T. Alexander-Arnold"
          ],
          [
           "Casemiro"
          ],
          [
           "E. Hazard"
          ],
          [
           "K. Havertz"
          ],
          [
           "A. Laporte"
          ],
          [
           "T. Courtois"
          ],
          [
           "T. Kroos"
          ],
          [
           "Fabinho"
          ],
          [
           "Ederson"
          ],
          [
           "A. Robertson"
          ],
          [
           "K. Benzema"
          ],
          [
           "M. Rashford"
          ],
          [
           "S. Agüero"
          ],
          [
           "H. Son"
          ],
          [
           "Roberto Firmino"
          ],
          [
           "L. Sané"
          ],
          [
           "N. Kanté"
          ],
          [
           "F. de Jong"
          ],
          [
           "A. Griezmann"
          ],
          [
           "P. Pogba"
          ],
          [
           "M. Verratti"
          ],
          [
           "K. Koulibaly"
          ],
          [
           "T. Werner"
          ],
          [
           "M. de Ligt"
          ],
          [
           "S. Milinković-Savić"
          ],
          [
           "C. Immobile"
          ],
          [
           "M. Depay"
          ],
          [
           "S. Gnabry"
          ],
          [
           "R. Varane"
          ],
          [
           "Cristiano Ronaldo"
          ],
          [
           "E. Haaland"
          ],
          [
           "R. Lukaku"
          ],
          [
           "M. Icardi"
          ],
          [
           "P. Aubameyang"
          ],
          [
           "M. Škriniar"
          ],
          [
           "L. Martínez"
          ],
          [
           "C. Lenglet"
          ],
          [
           "Marquinhos"
          ],
          [
           "H. Ziyech"
          ],
          [
           "Rodri"
          ],
          [
           "Oyarzabal"
          ],
          [
           "T. Müller"
          ],
          [
           "G. Donnarumma"
          ],
          [
           "A. Martial"
          ],
          [
           "Arthur"
          ],
          [
           "K. Coman"
          ],
          [
           "Luis Alberto"
          ],
          [
           "J. Brandt"
          ],
          [
           "Ricardo Pereira"
          ],
          [
           "L. Goretzka"
          ],
          [
           "A. Di María"
          ],
          [
           "C. Eriksen"
          ],
          [
           "Saúl"
          ],
          [
           "Sergio Busquets"
          ],
          [
           "Carvajal"
          ],
          [
           "Koke"
          ],
          [
           "R. Mahrez"
          ],
          [
           "N. Süle"
          ],
          [
           "L. Insigne"
          ],
          [
           "G. Wijnaldum"
          ],
          [
           "Thiago"
          ],
          [
           "R. Guerreiro"
          ],
          [
           "W. Ndidi"
          ],
          [
           "J. Henderson"
          ],
          [
           "J. Giménez"
          ],
          [
           "M. Ødegaard"
          ],
          [
           "F. Valverde"
          ],
          [
           "Grimaldo"
          ],
          [
           "M. Pjanić"
          ],
          [
           "O. Dembélé"
          ],
          [
           "T. Partey"
          ],
          [
           "A. Hakimi"
          ],
          [
           "Gabriel Jesus"
          ],
          [
           "A. Gómez"
          ],
          [
           "S. Bergwijn"
          ],
          [
           "M. Reus"
          ],
          [
           "W. Szczęsny"
          ],
          [
           "D. Alli"
          ],
          [
           "B. Leno"
          ],
          [
           "D. van de Beek"
          ],
          [
           "M. Hummels"
          ],
          [
           "Parejo"
          ],
          [
           "J. Corona"
          ],
          [
           "M. Brozović"
          ],
          [
           "João Félix"
          ],
          [
           "Jordi Alba"
          ],
          [
           "L. Digne"
          ],
          [
           "M. Kovačić"
          ],
          [
           "De Gea"
          ],
          [
           "Isco"
          ],
          [
           "Alex Sandro"
          ],
          [
           "L. Suárez"
          ],
          [
           "Alex Telles"
          ],
          [
           "M. Sabitzer"
          ],
          [
           "R. Jiménez"
          ],
          [
           "J. Gomez"
          ],
          [
           "W. Ben Yedder"
          ],
          [
           "A. Wan-Bissaka"
          ],
          [
           "K. Walker"
          ],
          [
           "D. Zakaria"
          ],
          [
           "Douglas Costa"
          ],
          [
           "N. Fekir"
          ],
          [
           "F. Mendy"
          ],
          [
           "Gayà"
          ],
          [
           "S. de Vrij"
          ],
          [
           "Fabián"
          ],
          [
           "A. Romagnoli"
          ],
          [
           "A. Onana"
          ],
          [
           "Pizzi"
          ],
          [
           "M. Neuer"
          ],
          [
           "Rúben Neves"
          ],
          [
           "G. Lo Celso"
          ],
          [
           "Marco Asensio"
          ],
          [
           "Y. Sommer"
          ],
          [
           "S. Umtiti"
          ],
          [
           "T. Alderweireld"
          ],
          [
           "Nélson Semedo"
          ],
          [
           "N. Pépé"
          ],
          [
           "João Cancelo"
          ],
          [
           "A. Correa"
          ],
          [
           "J. Vardy"
          ],
          [
           "Vinícius Jr."
          ],
          [
           "Reguilón"
          ],
          [
           "Anderson Talisca"
          ],
          [
           "N. Tagliafico"
          ],
          [
           "Marcos Llorente"
          ],
          [
           "D. Alaba"
          ],
          [
           "Muniain"
          ],
          [
           "K. Navas"
          ],
          [
           "F. Kostić"
          ],
          [
           "Gerard Moreno"
          ],
          [
           "Rafa"
          ],
          [
           "Diego Carlos"
          ],
          [
           "T. Hazard"
          ],
          [
           "Lucas Moura"
          ],
          [
           "H. Lloris"
          ],
          [
           "W. Zaha"
          ],
          [
           "L. Hernández"
          ],
          [
           "Ferran Torres"
          ],
          [
           "E. Can"
          ],
          [
           "Cucurella"
          ],
          [
           "L. Ocampos"
          ],
          [
           "K. Laimer"
          ],
          [
           "Coutinho"
          ],
          [
           "Morata"
          ],
          [
           "Oscar"
          ],
          [
           "A. Lacazette"
          ],
          [
           "Portu"
          ],
          [
           "H. Aouar"
          ],
          [
           "D. Zapata"
          ],
          [
           "P. Gulácsi"
          ],
          [
           "Ronaldo Cabrais"
          ],
          [
           "Richarlison"
          ],
          [
           "J. Matip"
          ],
          [
           "Pau López"
          ],
          [
           "Jorginho"
          ],
          [
           "Juan Bernat"
          ],
          [
           "I. Gueye"
          ],
          [
           "T. Strakosha"
          ],
          [
           "R. Bürki"
          ],
          [
           "I. Gündoğan"
          ],
          [
           "Iago Aspas"
          ],
          [
           "Allan"
          ],
          [
           "J. Iličić"
          ],
          [
           "M. Diaby"
          ],
          [
           "Azpilicueta"
          ],
          [
           "C. Pulisic"
          ],
          [
           "K. Manolas"
          ],
          [
           "Gonçalo Guedes"
          ],
          [
           "Sergio Ramos"
          ],
          [
           "G. Bale"
          ],
          [
           "L. Modrić"
          ],
          [
           "E. Višća"
          ],
          [
           "H. Maguire"
          ],
          [
           "R. Gosens"
          ],
          [
           "D. Mertens"
          ],
          [
           "Y. Carrasco"
          ],
          [
           "Everton"
          ],
          [
           "A. Witsel"
          ],
          [
           "M. Dembélé"
          ],
          [
           "D. Tadić"
          ],
          [
           "Felipe"
          ],
          [
           "J. Maddison"
          ],
          [
           "T. Lemar"
          ],
          [
           "Y. Tielemans"
          ],
          [
           "M. Ginter"
          ],
          [
           "F. Thauvin"
          ],
          [
           "Raphinha"
          ],
          [
           "Iñaki Williams"
          ],
          [
           "David Silva"
          ],
          [
           "N. Keïta"
          ],
          [
           "Q. Promes"
          ],
          [
           "J. Correa"
          ],
          [
           "K. Casteels"
          ],
          [
           "A. Milik"
          ],
          [
           "C. Vela"
          ],
          [
           "A. Davies"
          ],
          [
           "J. Rodríguez"
          ],
          [
           "Paulinho"
          ],
          [
           "Rúben Dias"
          ],
          [
           "Rodrigo"
          ],
          [
           "Sergi Roberto"
          ],
          [
           "A. Kramarić"
          ],
          [
           "M. Acuña"
          ],
          [
           "S. Haller"
          ],
          [
           "Canales"
          ],
          [
           "M. Maignan"
          ],
          [
           "D. Djené"
          ],
          [
           "A. Ramsey"
          ],
          [
           "T. Souček"
          ],
          [
           "Renan Lodi"
          ],
          [
           "K. Trippier"
          ],
          [
           "L. Torreira"
          ],
          [
           "Rodrygo"
          ],
          [
           "Kepa"
          ],
          [
           "M. Lazzari"
          ],
          [
           "Gabriel Paulista"
          ],
          [
           "Paco Alcácer"
          ],
          [
           "Piqué"
          ],
          [
           "J. Martínez"
          ],
          [
           "A. Lopes"
          ],
          [
           "A. Rabiot"
          ],
          [
           "K. Bellarabi"
          ],
          [
           "M. Mount"
          ],
          [
           "P. Kimpembe"
          ],
          [
           "B. Chilwell"
          ],
          [
           "A. Saint-Maximin"
          ],
          [
           "B. Pavard"
          ],
          [
           "G. Higuaín"
          ],
          [
           "N. Barella"
          ],
          [
           "Diogo Jota"
          ],
          [
           "M. Thuram"
          ],
          [
           "Yuri Berchiche"
          ],
          [
           "V. Tsygankov"
          ],
          [
           "N. Vlašić"
          ],
          [
           "C. Nkunku"
          ],
          [
           "T. Ndombele"
          ],
          [
           "Trincão"
          ],
          [
           "L. Bailey"
          ],
          [
           "L. Jović"
          ],
          [
           "M. Arnautović"
          ],
          [
           "D. Upamecano"
          ],
          [
           "David Neres"
          ],
          [
           "D. Sánchez"
          ],
          [
           "A. Areola"
          ],
          [
           "M. Gómez"
          ],
          [
           "Danilo Pereira"
          ],
          [
           "R. Nainggolan"
          ],
          [
           "Merino"
          ],
          [
           "Nuno Padrenda"
          ],
          [
           "B. Mendy"
          ],
          [
           "Jonny"
          ],
          [
           "P. Foden"
          ],
          [
           "Dani Ceballos"
          ],
          [
           "E. Cavani"
          ],
          [
           "Josué Chiamulera"
          ],
          [
           "M. Özil"
          ],
          [
           "E. Banega"
          ],
          [
           "C. Aránguiz"
          ],
          [
           "Pacheco"
          ],
          [
           "Willian"
          ],
          [
           "I. Perišić"
          ],
          [
           "Renato Augusto"
          ],
          [
           "G. Rulli"
          ],
          [
           "José Callejón"
          ],
          [
           "M. Halstenberg"
          ],
          [
           "W. Weghorst"
          ],
          [
           "Suso"
          ],
          [
           "H. Lozano"
          ],
          [
           "Rui Patrício"
          ],
          [
           "V. Osimhen"
          ],
          [
           "L. Shaw"
          ],
          [
           "J. Grealish"
          ],
          [
           "Fred"
          ],
          [
           "M. Politano"
          ],
          [
           "K. Volland"
          ],
          [
           "Éder Militão"
          ],
          [
           "J. Pavlenka"
          ],
          [
           "Dani Olmo"
          ],
          [
           "Felipe Anderson"
          ],
          [
           "A. Rüdiger"
          ],
          [
           "A. Januzaj"
          ]
         ],
         "hovertemplate": "Wage=%{x}<br>Value=%{y}<br>Name=%{customdata[0]}<extra></extra>",
         "legendgroup": "",
         "marker": {
          "color": "#636efa",
          "symbol": "circle"
         },
         "mode": "markers",
         "name": "",
         "orientation": "v",
         "showlegend": false,
         "type": "scatter",
         "x": [
          270000,
          370000,
          240000,
          250000,
          250000,
          210000,
          125000,
          270000,
          190000,
          220000,
          82000,
          260000,
          560000,
          145000,
          195000,
          160000,
          230000,
          110000,
          310000,
          350000,
          105000,
          200000,
          250000,
          310000,
          155000,
          195000,
          155000,
          350000,
          150000,
          300000,
          165000,
          190000,
          100000,
          190000,
          190000,
          290000,
          190000,
          135000,
          140000,
          135000,
          80000,
          94000,
          125000,
          115000,
          100000,
          220000,
          220000,
          56000,
          165000,
          135000,
          170000,
          130000,
          130000,
          190000,
          115000,
          140000,
          145000,
          47000,
          130000,
          34000,
          155000,
          98000,
          94000,
          99000,
          75000,
          120000,
          105000,
          160000,
          155000,
          77000,
          240000,
          230000,
          92000,
          210000,
          84000,
          120000,
          150000,
          150000,
          86000,
          96000,
          140000,
          70000,
          135000,
          135000,
          20000,
          220000,
          175000,
          120000,
          92000,
          150000,
          100000,
          105000,
          94000,
          105000,
          105000,
          105000,
          125000,
          93000,
          59000,
          25000,
          125000,
          51000,
          220000,
          110000,
          120000,
          150000,
          210000,
          120000,
          115000,
          145000,
          73000,
          140000,
          93000,
          91000,
          115000,
          170000,
          45000,
          110000,
          38000,
          160000,
          46000,
          130000,
          70000,
          51000,
          18000,
          25000,
          125000,
          89000,
          95000,
          160000,
          55000,
          170000,
          130000,
          100000,
          98000,
          140000,
          65000,
          160000,
          95000,
          85000,
          36000,
          27000,
          65000,
          105000,
          41000,
          110000,
          45000,
          56000,
          23000,
          39000,
          78000,
          120000,
          125000,
          82000,
          70000,
          97000,
          72000,
          28000,
          40000,
          53000,
          190000,
          100000,
          25000,
          125000,
          50000,
          65000,
          87000,
          65000,
          49000,
          90000,
          115000,
          0,
          125000,
          95000,
          105000,
          57000,
          67000,
          160000,
          46000,
          115000,
          92000,
          54000,
          120000,
          83000,
          84000,
          39000,
          300000,
          130000,
          260000,
          59000,
          120000,
          68000,
          115000,
          67000,
          17000,
          79000,
          71000,
          30000,
          74000,
          82000,
          54000,
          82000,
          48000,
          59000,
          100000,
          35000,
          58000,
          96000,
          26000,
          73000,
          53000,
          80000,
          17000,
          40000,
          105000,
          39000,
          105000,
          140000,
          175000,
          56000,
          41000,
          58000,
          36000,
          31000,
          39000,
          98000,
          46000,
          49000,
          71000,
          49000,
          90000,
          76000,
          70000,
          46000,
          45000,
          220000,
          14000,
          69000,
          83000,
          78000,
          69000,
          69000,
          79000,
          43000,
          65000,
          17000,
          86000,
          90000,
          43000,
          35000,
          0,
          47000,
          50000,
          82000,
          105000,
          59000,
          140000,
          24000,
          36000,
          21000,
          79000,
          93000,
          40000,
          92000,
          125000,
          31000,
          43000,
          115000,
          86000,
          86000,
          76000,
          175000,
          41000,
          100000,
          55000,
          78000,
          28000,
          110000,
          115000,
          33000,
          35000,
          85000,
          64000,
          62000,
          39000,
          66000,
          90000,
          54000,
          97000,
          65000,
          115000,
          74000,
          68000,
          115000,
          32000,
          48000,
          19000,
          92000,
          37000
         ],
         "xaxis": "x",
         "y": [
          90000000,
          87000000,
          80000000,
          78000000,
          78000000,
          75500000,
          75000000,
          72500000,
          71000000,
          71000000,
          69500000,
          69500000,
          67500000,
          65000000,
          63000000,
          62500000,
          60000000,
          60000000,
          59500000,
          58000000,
          57000000,
          56000000,
          56000000,
          55000000,
          54500000,
          53500000,
          53000000,
          53000000,
          53000000,
          53000000,
          52500000,
          52000000,
          51500000,
          51000000,
          50500000,
          50500000,
          50000000,
          50000000,
          50000000,
          49500000,
          49500000,
          49000000,
          48500000,
          48500000,
          47500000,
          46500000,
          46000000,
          45000000,
          45000000,
          45000000,
          45000000,
          44500000,
          44500000,
          44500000,
          44000000,
          44000000,
          44000000,
          42500000,
          42000000,
          41500000,
          41000000,
          41000000,
          40500000,
          40500000,
          40500000,
          39500000,
          39500000,
          39000000,
          39000000,
          38500000,
          38000000,
          38000000,
          38000000,
          37500000,
          37500000,
          37500000,
          37000000,
          37000000,
          36500000,
          36500000,
          36500000,
          36000000,
          36000000,
          36000000,
          35500000,
          35500000,
          35500000,
          35000000,
          35000000,
          34500000,
          34500000,
          34500000,
          34000000,
          34000000,
          34000000,
          33500000,
          33000000,
          33000000,
          33000000,
          32500000,
          32000000,
          32000000,
          32000000,
          31500000,
          31500000,
          31500000,
          31500000,
          31500000,
          31500000,
          31000000,
          31000000,
          31000000,
          31000000,
          31000000,
          30500000,
          30500000,
          30500000,
          30500000,
          30500000,
          30500000,
          30500000,
          30500000,
          30000000,
          30000000,
          30000000,
          29500000,
          29000000,
          29000000,
          29000000,
          29000000,
          28500000,
          28500000,
          28500000,
          28000000,
          28000000,
          28000000,
          28000000,
          28000000,
          27500000,
          27500000,
          27500000,
          27500000,
          27500000,
          27500000,
          27000000,
          27000000,
          27000000,
          27000000,
          27000000,
          27000000,
          27000000,
          27000000,
          27000000,
          27000000,
          26500000,
          26500000,
          26500000,
          26500000,
          26500000,
          26000000,
          26000000,
          26000000,
          26000000,
          26000000,
          26000000,
          26000000,
          26000000,
          26000000,
          26000000,
          25500000,
          25500000,
          25500000,
          25500000,
          25500000,
          25500000,
          25500000,
          25000000,
          25000000,
          25000000,
          25000000,
          25000000,
          25000000,
          24500000,
          24500000,
          24500000,
          24500000,
          24500000,
          24500000,
          24500000,
          24500000,
          24000000,
          24000000,
          24000000,
          24000000,
          24000000,
          23500000,
          23500000,
          23500000,
          23000000,
          23000000,
          23000000,
          23000000,
          23000000,
          23000000,
          23000000,
          22500000,
          22500000,
          22500000,
          22500000,
          22500000,
          22500000,
          22500000,
          22500000,
          22500000,
          22500000,
          22000000,
          22000000,
          22000000,
          22000000,
          22000000,
          22000000,
          22000000,
          21500000,
          21500000,
          21500000,
          21500000,
          21500000,
          21500000,
          21500000,
          21000000,
          21000000,
          21000000,
          21000000,
          21000000,
          21000000,
          21000000,
          21000000,
          21000000,
          21000000,
          21000000,
          21000000,
          21000000,
          20500000,
          20500000,
          20500000,
          20500000,
          20500000,
          20500000,
          20500000,
          20500000,
          20500000,
          20500000,
          20500000,
          20500000,
          20000000,
          20000000,
          20000000,
          20000000,
          20000000,
          20000000,
          20000000,
          20000000,
          20000000,
          20000000,
          20000000,
          20000000,
          19500000,
          19500000,
          19500000,
          19500000,
          19500000,
          19500000,
          19500000,
          19500000,
          19500000,
          19500000,
          19500000,
          19500000,
          19500000,
          19500000,
          19500000,
          19000000,
          19000000,
          19000000,
          19000000,
          19000000,
          19000000,
          19000000,
          19000000,
          19000000,
          19000000,
          19000000,
          19000000,
          19000000,
          18500000,
          18500000,
          18500000,
          18500000,
          18500000
         ],
         "yaxis": "y"
        }
       ],
       "layout": {
        "legend": {
         "tracegroupgap": 0
        },
        "margin": {
         "t": 60
        },
        "template": {
         "data": {
          "bar": [
           {
            "error_x": {
             "color": "#2a3f5f"
            },
            "error_y": {
             "color": "#2a3f5f"
            },
            "marker": {
             "line": {
              "color": "#E5ECF6",
              "width": 0.5
             },
             "pattern": {
              "fillmode": "overlay",
              "size": 10,
              "solidity": 0.2
             }
            },
            "type": "bar"
           }
          ],
          "barpolar": [
           {
            "marker": {
             "line": {
              "color": "#E5ECF6",
              "width": 0.5
             },
             "pattern": {
              "fillmode": "overlay",
              "size": 10,
              "solidity": 0.2
             }
            },
            "type": "barpolar"
           }
          ],
          "carpet": [
           {
            "aaxis": {
             "endlinecolor": "#2a3f5f",
             "gridcolor": "white",
             "linecolor": "white",
             "minorgridcolor": "white",
             "startlinecolor": "#2a3f5f"
            },
            "baxis": {
             "endlinecolor": "#2a3f5f",
             "gridcolor": "white",
             "linecolor": "white",
             "minorgridcolor": "white",
             "startlinecolor": "#2a3f5f"
            },
            "type": "carpet"
           }
          ],
          "choropleth": [
           {
            "colorbar": {
             "outlinewidth": 0,
             "ticks": ""
            },
            "type": "choropleth"
           }
          ],
          "contour": [
           {
            "colorbar": {
             "outlinewidth": 0,
             "ticks": ""
            },
            "colorscale": [
             [
              0,
              "#0d0887"
             ],
             [
              0.1111111111111111,
              "#46039f"
             ],
             [
              0.2222222222222222,
              "#7201a8"
             ],
             [
              0.3333333333333333,
              "#9c179e"
             ],
             [
              0.4444444444444444,
              "#bd3786"
             ],
             [
              0.5555555555555556,
              "#d8576b"
             ],
             [
              0.6666666666666666,
              "#ed7953"
             ],
             [
              0.7777777777777778,
              "#fb9f3a"
             ],
             [
              0.8888888888888888,
              "#fdca26"
             ],
             [
              1,
              "#f0f921"
             ]
            ],
            "type": "contour"
           }
          ],
          "contourcarpet": [
           {
            "colorbar": {
             "outlinewidth": 0,
             "ticks": ""
            },
            "type": "contourcarpet"
           }
          ],
          "heatmap": [
           {
            "colorbar": {
             "outlinewidth": 0,
             "ticks": ""
            },
            "colorscale": [
             [
              0,
              "#0d0887"
             ],
             [
              0.1111111111111111,
              "#46039f"
             ],
             [
              0.2222222222222222,
              "#7201a8"
             ],
             [
              0.3333333333333333,
              "#9c179e"
             ],
             [
              0.4444444444444444,
              "#bd3786"
             ],
             [
              0.5555555555555556,
              "#d8576b"
             ],
             [
              0.6666666666666666,
              "#ed7953"
             ],
             [
              0.7777777777777778,
              "#fb9f3a"
             ],
             [
              0.8888888888888888,
              "#fdca26"
             ],
             [
              1,
              "#f0f921"
             ]
            ],
            "type": "heatmap"
           }
          ],
          "heatmapgl": [
           {
            "colorbar": {
             "outlinewidth": 0,
             "ticks": ""
            },
            "colorscale": [
             [
              0,
              "#0d0887"
             ],
             [
              0.1111111111111111,
              "#46039f"
             ],
             [
              0.2222222222222222,
              "#7201a8"
             ],
             [
              0.3333333333333333,
              "#9c179e"
             ],
             [
              0.4444444444444444,
              "#bd3786"
             ],
             [
              0.5555555555555556,
              "#d8576b"
             ],
             [
              0.6666666666666666,
              "#ed7953"
             ],
             [
              0.7777777777777778,
              "#fb9f3a"
             ],
             [
              0.8888888888888888,
              "#fdca26"
             ],
             [
              1,
              "#f0f921"
             ]
            ],
            "type": "heatmapgl"
           }
          ],
          "histogram": [
           {
            "marker": {
             "pattern": {
              "fillmode": "overlay",
              "size": 10,
              "solidity": 0.2
             }
            },
            "type": "histogram"
           }
          ],
          "histogram2d": [
           {
            "colorbar": {
             "outlinewidth": 0,
             "ticks": ""
            },
            "colorscale": [
             [
              0,
              "#0d0887"
             ],
             [
              0.1111111111111111,
              "#46039f"
             ],
             [
              0.2222222222222222,
              "#7201a8"
             ],
             [
              0.3333333333333333,
              "#9c179e"
             ],
             [
              0.4444444444444444,
              "#bd3786"
             ],
             [
              0.5555555555555556,
              "#d8576b"
             ],
             [
              0.6666666666666666,
              "#ed7953"
             ],
             [
              0.7777777777777778,
              "#fb9f3a"
             ],
             [
              0.8888888888888888,
              "#fdca26"
             ],
             [
              1,
              "#f0f921"
             ]
            ],
            "type": "histogram2d"
           }
          ],
          "histogram2dcontour": [
           {
            "colorbar": {
             "outlinewidth": 0,
             "ticks": ""
            },
            "colorscale": [
             [
              0,
              "#0d0887"
             ],
             [
              0.1111111111111111,
              "#46039f"
             ],
             [
              0.2222222222222222,
              "#7201a8"
             ],
             [
              0.3333333333333333,
              "#9c179e"
             ],
             [
              0.4444444444444444,
              "#bd3786"
             ],
             [
              0.5555555555555556,
              "#d8576b"
             ],
             [
              0.6666666666666666,
              "#ed7953"
             ],
             [
              0.7777777777777778,
              "#fb9f3a"
             ],
             [
              0.8888888888888888,
              "#fdca26"
             ],
             [
              1,
              "#f0f921"
             ]
            ],
            "type": "histogram2dcontour"
           }
          ],
          "mesh3d": [
           {
            "colorbar": {
             "outlinewidth": 0,
             "ticks": ""
            },
            "type": "mesh3d"
           }
          ],
          "parcoords": [
           {
            "line": {
             "colorbar": {
              "outlinewidth": 0,
              "ticks": ""
             }
            },
            "type": "parcoords"
           }
          ],
          "pie": [
           {
            "automargin": true,
            "type": "pie"
           }
          ],
          "scatter": [
           {
            "fillpattern": {
             "fillmode": "overlay",
             "size": 10,
             "solidity": 0.2
            },
            "type": "scatter"
           }
          ],
          "scatter3d": [
           {
            "line": {
             "colorbar": {
              "outlinewidth": 0,
              "ticks": ""
             }
            },
            "marker": {
             "colorbar": {
              "outlinewidth": 0,
              "ticks": ""
             }
            },
            "type": "scatter3d"
           }
          ],
          "scattercarpet": [
           {
            "marker": {
             "colorbar": {
              "outlinewidth": 0,
              "ticks": ""
             }
            },
            "type": "scattercarpet"
           }
          ],
          "scattergeo": [
           {
            "marker": {
             "colorbar": {
              "outlinewidth": 0,
              "ticks": ""
             }
            },
            "type": "scattergeo"
           }
          ],
          "scattergl": [
           {
            "marker": {
             "colorbar": {
              "outlinewidth": 0,
              "ticks": ""
             }
            },
            "type": "scattergl"
           }
          ],
          "scattermapbox": [
           {
            "marker": {
             "colorbar": {
              "outlinewidth": 0,
              "ticks": ""
             }
            },
            "type": "scattermapbox"
           }
          ],
          "scatterpolar": [
           {
            "marker": {
             "colorbar": {
              "outlinewidth": 0,
              "ticks": ""
             }
            },
            "type": "scatterpolar"
           }
          ],
          "scatterpolargl": [
           {
            "marker": {
             "colorbar": {
              "outlinewidth": 0,
              "ticks": ""
             }
            },
            "type": "scatterpolargl"
           }
          ],
          "scatterternary": [
           {
            "marker": {
             "colorbar": {
              "outlinewidth": 0,
              "ticks": ""
             }
            },
            "type": "scatterternary"
           }
          ],
          "surface": [
           {
            "colorbar": {
             "outlinewidth": 0,
             "ticks": ""
            },
            "colorscale": [
             [
              0,
              "#0d0887"
             ],
             [
              0.1111111111111111,
              "#46039f"
             ],
             [
              0.2222222222222222,
              "#7201a8"
             ],
             [
              0.3333333333333333,
              "#9c179e"
             ],
             [
              0.4444444444444444,
              "#bd3786"
             ],
             [
              0.5555555555555556,
              "#d8576b"
             ],
             [
              0.6666666666666666,
              "#ed7953"
             ],
             [
              0.7777777777777778,
              "#fb9f3a"
             ],
             [
              0.8888888888888888,
              "#fdca26"
             ],
             [
              1,
              "#f0f921"
             ]
            ],
            "type": "surface"
           }
          ],
          "table": [
           {
            "cells": {
             "fill": {
              "color": "#EBF0F8"
             },
             "line": {
              "color": "white"
             }
            },
            "header": {
             "fill": {
              "color": "#C8D4E3"
             },
             "line": {
              "color": "white"
             }
            },
            "type": "table"
           }
          ]
         },
         "layout": {
          "annotationdefaults": {
           "arrowcolor": "#2a3f5f",
           "arrowhead": 0,
           "arrowwidth": 1
          },
          "autotypenumbers": "strict",
          "coloraxis": {
           "colorbar": {
            "outlinewidth": 0,
            "ticks": ""
           }
          },
          "colorscale": {
           "diverging": [
            [
             0,
             "#8e0152"
            ],
            [
             0.1,
             "#c51b7d"
            ],
            [
             0.2,
             "#de77ae"
            ],
            [
             0.3,
             "#f1b6da"
            ],
            [
             0.4,
             "#fde0ef"
            ],
            [
             0.5,
             "#f7f7f7"
            ],
            [
             0.6,
             "#e6f5d0"
            ],
            [
             0.7,
             "#b8e186"
            ],
            [
             0.8,
             "#7fbc41"
            ],
            [
             0.9,
             "#4d9221"
            ],
            [
             1,
             "#276419"
            ]
           ],
           "sequential": [
            [
             0,
             "#0d0887"
            ],
            [
             0.1111111111111111,
             "#46039f"
            ],
            [
             0.2222222222222222,
             "#7201a8"
            ],
            [
             0.3333333333333333,
             "#9c179e"
            ],
            [
             0.4444444444444444,
             "#bd3786"
            ],
            [
             0.5555555555555556,
             "#d8576b"
            ],
            [
             0.6666666666666666,
             "#ed7953"
            ],
            [
             0.7777777777777778,
             "#fb9f3a"
            ],
            [
             0.8888888888888888,
             "#fdca26"
            ],
            [
             1,
             "#f0f921"
            ]
           ],
           "sequentialminus": [
            [
             0,
             "#0d0887"
            ],
            [
             0.1111111111111111,
             "#46039f"
            ],
            [
             0.2222222222222222,
             "#7201a8"
            ],
            [
             0.3333333333333333,
             "#9c179e"
            ],
            [
             0.4444444444444444,
             "#bd3786"
            ],
            [
             0.5555555555555556,
             "#d8576b"
            ],
            [
             0.6666666666666666,
             "#ed7953"
            ],
            [
             0.7777777777777778,
             "#fb9f3a"
            ],
            [
             0.8888888888888888,
             "#fdca26"
            ],
            [
             1,
             "#f0f921"
            ]
           ]
          },
          "colorway": [
           "#636efa",
           "#EF553B",
           "#00cc96",
           "#ab63fa",
           "#FFA15A",
           "#19d3f3",
           "#FF6692",
           "#B6E880",
           "#FF97FF",
           "#FECB52"
          ],
          "font": {
           "color": "#2a3f5f"
          },
          "geo": {
           "bgcolor": "white",
           "lakecolor": "white",
           "landcolor": "#E5ECF6",
           "showlakes": true,
           "showland": true,
           "subunitcolor": "white"
          },
          "hoverlabel": {
           "align": "left"
          },
          "hovermode": "closest",
          "mapbox": {
           "style": "light"
          },
          "paper_bgcolor": "white",
          "plot_bgcolor": "#E5ECF6",
          "polar": {
           "angularaxis": {
            "gridcolor": "white",
            "linecolor": "white",
            "ticks": ""
           },
           "bgcolor": "#E5ECF6",
           "radialaxis": {
            "gridcolor": "white",
            "linecolor": "white",
            "ticks": ""
           }
          },
          "scene": {
           "xaxis": {
            "backgroundcolor": "#E5ECF6",
            "gridcolor": "white",
            "gridwidth": 2,
            "linecolor": "white",
            "showbackground": true,
            "ticks": "",
            "zerolinecolor": "white"
           },
           "yaxis": {
            "backgroundcolor": "#E5ECF6",
            "gridcolor": "white",
            "gridwidth": 2,
            "linecolor": "white",
            "showbackground": true,
            "ticks": "",
            "zerolinecolor": "white"
           },
           "zaxis": {
            "backgroundcolor": "#E5ECF6",
            "gridcolor": "white",
            "gridwidth": 2,
            "linecolor": "white",
            "showbackground": true,
            "ticks": "",
            "zerolinecolor": "white"
           }
          },
          "shapedefaults": {
           "line": {
            "color": "#2a3f5f"
           }
          },
          "ternary": {
           "aaxis": {
            "gridcolor": "white",
            "linecolor": "white",
            "ticks": ""
           },
           "baxis": {
            "gridcolor": "white",
            "linecolor": "white",
            "ticks": ""
           },
           "bgcolor": "#E5ECF6",
           "caxis": {
            "gridcolor": "white",
            "linecolor": "white",
            "ticks": ""
           }
          },
          "title": {
           "x": 0.05
          },
          "xaxis": {
           "automargin": true,
           "gridcolor": "white",
           "linecolor": "white",
           "ticks": "",
           "title": {
            "standoff": 15
           },
           "zerolinecolor": "white",
           "zerolinewidth": 2
          },
          "yaxis": {
           "automargin": true,
           "gridcolor": "white",
           "linecolor": "white",
           "ticks": "",
           "title": {
            "standoff": 15
           },
           "zerolinecolor": "white",
           "zerolinewidth": 2
          }
         }
        },
        "xaxis": {
         "anchor": "y",
         "domain": [
          0,
          1
         ],
         "title": {
          "text": "Wage"
         }
        },
        "yaxis": {
         "anchor": "x",
         "domain": [
          0,
          1
         ],
         "title": {
          "text": "Value"
         }
        }
       }
      },
      "text/html": [
       "<div>                            <div id=\"1d68f655-d725-4c5d-84cf-14fd9d837e77\" class=\"plotly-graph-div\" style=\"height:525px; width:100%;\"></div>            <script type=\"text/javascript\">                require([\"plotly\"], function(Plotly) {                    window.PLOTLYENV=window.PLOTLYENV || {};                                    if (document.getElementById(\"1d68f655-d725-4c5d-84cf-14fd9d837e77\")) {                    Plotly.newPlot(                        \"1d68f655-d725-4c5d-84cf-14fd9d837e77\",                        [{\"customdata\":[[\"Neymar Jr\"],[\"K. De Bruyne\"],[\"R. Lewandowski\"],[\"M. Salah\"],[\"S. Man\\u00e9\"],[\"V. van Dijk\"],[\"J. Oblak\"],[\"R. Sterling\"],[\"P. Dybala\"],[\"H. Kane\"],[\"J. Sancho\"],[\"M. ter Stegen\"],[\"L. Messi\"],[\"J. Kimmich\"],[\"Bruno Fernandes\"],[\"Alisson\"],[\"Bernardo Silva\"],[\"T. Alexander-Arnold\"],[\"Casemiro\"],[\"E. Hazard\"],[\"K. Havertz\"],[\"A. Laporte\"],[\"T. Courtois\"],[\"T. Kroos\"],[\"Fabinho\"],[\"Ederson\"],[\"A. Robertson\"],[\"K. Benzema\"],[\"M. Rashford\"],[\"S. Ag\\u00fcero\"],[\"H. Son\"],[\"Roberto Firmino\"],[\"L. San\\u00e9\"],[\"N. Kant\\u00e9\"],[\"F. de Jong\"],[\"A. Griezmann\"],[\"P. Pogba\"],[\"M. Verratti\"],[\"K. Koulibaly\"],[\"T. Werner\"],[\"M. de Ligt\"],[\"S. Milinkovi\\u0107-Savi\\u0107\"],[\"C. Immobile\"],[\"M. Depay\"],[\"S. Gnabry\"],[\"R. Varane\"],[\"Cristiano Ronaldo\"],[\"E. Haaland\"],[\"R. Lukaku\"],[\"M. Icardi\"],[\"P. Aubameyang\"],[\"M. \\u0160kriniar\"],[\"L. Mart\\u00ednez\"],[\"C. Lenglet\"],[\"Marquinhos\"],[\"H. Ziyech\"],[\"Rodri\"],[\"Oyarzabal\"],[\"T. M\\u00fcller\"],[\"G. Donnarumma\"],[\"A. Martial\"],[\"Arthur\"],[\"K. Coman\"],[\"Luis Alberto\"],[\"J. Brandt\"],[\"Ricardo Pereira\"],[\"L. Goretzka\"],[\"A. Di Mar\\u00eda\"],[\"C. Eriksen\"],[\"Sa\\u00fal\"],[\"Sergio Busquets\"],[\"Carvajal\"],[\"Koke\"],[\"R. Mahrez\"],[\"N. S\\u00fcle\"],[\"L. Insigne\"],[\"G. Wijnaldum\"],[\"Thiago\"],[\"R. Guerreiro\"],[\"W. Ndidi\"],[\"J. Henderson\"],[\"J. Gim\\u00e9nez\"],[\"M. \\u00d8degaard\"],[\"F. Valverde\"],[\"Grimaldo\"],[\"M. Pjani\\u0107\"],[\"O. Demb\\u00e9l\\u00e9\"],[\"T. Partey\"],[\"A. Hakimi\"],[\"Gabriel Jesus\"],[\"A. G\\u00f3mez\"],[\"S. Bergwijn\"],[\"M. Reus\"],[\"W. Szcz\\u0119sny\"],[\"D. Alli\"],[\"B. Leno\"],[\"D. van de Beek\"],[\"M. Hummels\"],[\"Parejo\"],[\"J. Corona\"],[\"M. Brozovi\\u0107\"],[\"Jo\\u00e3o F\\u00e9lix\"],[\"Jordi Alba\"],[\"L. Digne\"],[\"M. Kova\\u010di\\u0107\"],[\"De Gea\"],[\"Isco\"],[\"Alex Sandro\"],[\"L. Su\\u00e1rez\"],[\"Alex Telles\"],[\"M. Sabitzer\"],[\"R. Jim\\u00e9nez\"],[\"J. Gomez\"],[\"W. Ben Yedder\"],[\"A. Wan-Bissaka\"],[\"K. Walker\"],[\"D. Zakaria\"],[\"Douglas Costa\"],[\"N. Fekir\"],[\"F. Mendy\"],[\"Gay\\u00e0\"],[\"S. de Vrij\"],[\"Fabi\\u00e1n\"],[\"A. Romagnoli\"],[\"A. Onana\"],[\"Pizzi\"],[\"M. Neuer\"],[\"R\\u00faben Neves\"],[\"G. Lo Celso\"],[\"Marco Asensio\"],[\"Y. Sommer\"],[\"S. Umtiti\"],[\"T. Alderweireld\"],[\"N\\u00e9lson Semedo\"],[\"N. P\\u00e9p\\u00e9\"],[\"Jo\\u00e3o Cancelo\"],[\"A. Correa\"],[\"J. Vardy\"],[\"Vin\\u00edcius Jr.\"],[\"Reguil\\u00f3n\"],[\"Anderson Talisca\"],[\"N. Tagliafico\"],[\"Marcos Llorente\"],[\"D. Alaba\"],[\"Muniain\"],[\"K. Navas\"],[\"F. Kosti\\u0107\"],[\"Gerard Moreno\"],[\"Rafa\"],[\"Diego Carlos\"],[\"T. Hazard\"],[\"Lucas Moura\"],[\"H. Lloris\"],[\"W. Zaha\"],[\"L. Hern\\u00e1ndez\"],[\"Ferran Torres\"],[\"E. Can\"],[\"Cucurella\"],[\"L. Ocampos\"],[\"K. Laimer\"],[\"Coutinho\"],[\"Morata\"],[\"Oscar\"],[\"A. Lacazette\"],[\"Portu\"],[\"H. Aouar\"],[\"D. Zapata\"],[\"P. Gul\\u00e1csi\"],[\"Ronaldo Cabrais\"],[\"Richarlison\"],[\"J. Matip\"],[\"Pau L\\u00f3pez\"],[\"Jorginho\"],[\"Juan Bernat\"],[\"I. Gueye\"],[\"T. Strakosha\"],[\"R. B\\u00fcrki\"],[\"I. G\\u00fcndo\\u011fan\"],[\"Iago Aspas\"],[\"Allan\"],[\"J. Ili\\u010di\\u0107\"],[\"M. Diaby\"],[\"Azpilicueta\"],[\"C. Pulisic\"],[\"K. Manolas\"],[\"Gon\\u00e7alo Guedes\"],[\"Sergio Ramos\"],[\"G. Bale\"],[\"L. Modri\\u0107\"],[\"E. Vi\\u0161\\u0107a\"],[\"H. Maguire\"],[\"R. Gosens\"],[\"D. Mertens\"],[\"Y. Carrasco\"],[\"Everton\"],[\"A. Witsel\"],[\"M. Demb\\u00e9l\\u00e9\"],[\"D. Tadi\\u0107\"],[\"Felipe\"],[\"J. Maddison\"],[\"T. Lemar\"],[\"Y. Tielemans\"],[\"M. Ginter\"],[\"F. Thauvin\"],[\"Raphinha\"],[\"I\\u00f1aki Williams\"],[\"David Silva\"],[\"N. Ke\\u00efta\"],[\"Q. Promes\"],[\"J. Correa\"],[\"K. Casteels\"],[\"A. Milik\"],[\"C. Vela\"],[\"A. Davies\"],[\"J. Rodr\\u00edguez\"],[\"Paulinho\"],[\"R\\u00faben Dias\"],[\"Rodrigo\"],[\"Sergi Roberto\"],[\"A. Kramari\\u0107\"],[\"M. Acu\\u00f1a\"],[\"S. Haller\"],[\"Canales\"],[\"M. Maignan\"],[\"D. Djen\\u00e9\"],[\"A. Ramsey\"],[\"T. Sou\\u010dek\"],[\"Renan Lodi\"],[\"K. Trippier\"],[\"L. Torreira\"],[\"Rodrygo\"],[\"Kepa\"],[\"M. Lazzari\"],[\"Gabriel Paulista\"],[\"Paco Alc\\u00e1cer\"],[\"Piqu\\u00e9\"],[\"J. Mart\\u00ednez\"],[\"A. Lopes\"],[\"A. Rabiot\"],[\"K. Bellarabi\"],[\"M. Mount\"],[\"P. Kimpembe\"],[\"B. Chilwell\"],[\"A. Saint-Maximin\"],[\"B. Pavard\"],[\"G. Higua\\u00edn\"],[\"N. Barella\"],[\"Diogo Jota\"],[\"M. Thuram\"],[\"Yuri Berchiche\"],[\"V. Tsygankov\"],[\"N. Vla\\u0161i\\u0107\"],[\"C. Nkunku\"],[\"T. Ndombele\"],[\"Trinc\\u00e3o\"],[\"L. Bailey\"],[\"L. Jovi\\u0107\"],[\"M. Arnautovi\\u0107\"],[\"D. Upamecano\"],[\"David Neres\"],[\"D. S\\u00e1nchez\"],[\"A. Areola\"],[\"M. G\\u00f3mez\"],[\"Danilo Pereira\"],[\"R. Nainggolan\"],[\"Merino\"],[\"Nuno Padrenda\"],[\"B. Mendy\"],[\"Jonny\"],[\"P. Foden\"],[\"Dani Ceballos\"],[\"E. Cavani\"],[\"Josu\\u00e9 Chiamulera\"],[\"M. \\u00d6zil\"],[\"E. Banega\"],[\"C. Ar\\u00e1nguiz\"],[\"Pacheco\"],[\"Willian\"],[\"I. Peri\\u0161i\\u0107\"],[\"Renato Augusto\"],[\"G. Rulli\"],[\"Jos\\u00e9 Callej\\u00f3n\"],[\"M. Halstenberg\"],[\"W. Weghorst\"],[\"Suso\"],[\"H. Lozano\"],[\"Rui Patr\\u00edcio\"],[\"V. Osimhen\"],[\"L. Shaw\"],[\"J. Grealish\"],[\"Fred\"],[\"M. Politano\"],[\"K. Volland\"],[\"\\u00c9der Milit\\u00e3o\"],[\"J. Pavlenka\"],[\"Dani Olmo\"],[\"Felipe Anderson\"],[\"A. R\\u00fcdiger\"],[\"A. Januzaj\"]],\"hovertemplate\":\"Wage=%{x}<br>Value=%{y}<br>Name=%{customdata[0]}<extra></extra>\",\"legendgroup\":\"\",\"marker\":{\"color\":\"#636efa\",\"symbol\":\"circle\"},\"mode\":\"markers\",\"name\":\"\",\"orientation\":\"v\",\"showlegend\":false,\"x\":[270000.0,370000.0,240000.0,250000.0,250000.0,210000.0,125000.0,270000.0,190000.0,220000.0,82000.0,260000.0,560000.0,145000.0,195000.0,160000.0,230000.0,110000.0,310000.0,350000.0,105000.0,200000.0,250000.0,310000.0,155000.0,195000.0,155000.0,350000.0,150000.0,300000.0,165000.0,190000.0,100000.0,190000.0,190000.0,290000.0,190000.0,135000.0,140000.0,135000.0,80000.0,94000.0,125000.0,115000.0,100000.0,220000.0,220000.0,56000.0,165000.0,135000.0,170000.0,130000.0,130000.0,190000.0,115000.0,140000.0,145000.0,47000.0,130000.0,34000.0,155000.0,98000.0,94000.0,99000.0,75000.0,120000.0,105000.0,160000.0,155000.0,77000.0,240000.0,230000.0,92000.0,210000.0,84000.0,120000.0,150000.0,150000.0,86000.0,96000.0,140000.0,70000.0,135000.0,135000.0,20000.0,220000.0,175000.0,120000.0,92000.0,150000.0,100000.0,105000.0,94000.0,105000.0,105000.0,105000.0,125000.0,93000.0,59000.0,25000.0,125000.0,51000.0,220000.0,110000.0,120000.0,150000.0,210000.0,120000.0,115000.0,145000.0,73000.0,140000.0,93000.0,91000.0,115000.0,170000.0,45000.0,110000.0,38000.0,160000.0,46000.0,130000.0,70000.0,51000.0,18000.0,25000.0,125000.0,89000.0,95000.0,160000.0,55000.0,170000.0,130000.0,100000.0,98000.0,140000.0,65000.0,160000.0,95000.0,85000.0,36000.0,27000.0,65000.0,105000.0,41000.0,110000.0,45000.0,56000.0,23000.0,39000.0,78000.0,120000.0,125000.0,82000.0,70000.0,97000.0,72000.0,28000.0,40000.0,53000.0,190000.0,100000.0,25000.0,125000.0,50000.0,65000.0,87000.0,65000.0,49000.0,90000.0,115000.0,0.0,125000.0,95000.0,105000.0,57000.0,67000.0,160000.0,46000.0,115000.0,92000.0,54000.0,120000.0,83000.0,84000.0,39000.0,300000.0,130000.0,260000.0,59000.0,120000.0,68000.0,115000.0,67000.0,17000.0,79000.0,71000.0,30000.0,74000.0,82000.0,54000.0,82000.0,48000.0,59000.0,100000.0,35000.0,58000.0,96000.0,26000.0,73000.0,53000.0,80000.0,17000.0,40000.0,105000.0,39000.0,105000.0,140000.0,175000.0,56000.0,41000.0,58000.0,36000.0,31000.0,39000.0,98000.0,46000.0,49000.0,71000.0,49000.0,90000.0,76000.0,70000.0,46000.0,45000.0,220000.0,14000.0,69000.0,83000.0,78000.0,69000.0,69000.0,79000.0,43000.0,65000.0,17000.0,86000.0,90000.0,43000.0,35000.0,0.0,47000.0,50000.0,82000.0,105000.0,59000.0,140000.0,24000.0,36000.0,21000.0,79000.0,93000.0,40000.0,92000.0,125000.0,31000.0,43000.0,115000.0,86000.0,86000.0,76000.0,175000.0,41000.0,100000.0,55000.0,78000.0,28000.0,110000.0,115000.0,33000.0,35000.0,85000.0,64000.0,62000.0,39000.0,66000.0,90000.0,54000.0,97000.0,65000.0,115000.0,74000.0,68000.0,115000.0,32000.0,48000.0,19000.0,92000.0,37000.0],\"xaxis\":\"x\",\"y\":[90000000.0,87000000.0,80000000.0,78000000.0,78000000.0,75500000.0,75000000.0,72500000.0,71000000.0,71000000.0,69500000.0,69500000.0,67500000.0,65000000.0,63000000.0,62500000.0,60000000.0,60000000.0,59500000.0,58000000.0,57000000.0,56000000.0,56000000.0,55000000.0,54500000.0,53500000.0,53000000.0,53000000.0,53000000.0,53000000.0,52500000.0,52000000.0,51500000.0,51000000.0,50500000.0,50500000.0,50000000.0,50000000.0,50000000.0,49500000.0,49500000.0,49000000.0,48500000.0,48500000.0,47500000.0,46500000.0,46000000.0,45000000.0,45000000.0,45000000.0,45000000.0,44500000.0,44500000.0,44500000.0,44000000.0,44000000.0,44000000.0,42500000.0,42000000.0,41500000.0,41000000.0,41000000.0,40500000.0,40500000.0,40500000.0,39500000.0,39500000.0,39000000.0,39000000.0,38500000.0,38000000.0,38000000.0,38000000.0,37500000.0,37500000.0,37500000.0,37000000.0,37000000.0,36500000.0,36500000.0,36500000.0,36000000.0,36000000.0,36000000.0,35500000.0,35500000.0,35500000.0,35000000.0,35000000.0,34500000.0,34500000.0,34500000.0,34000000.0,34000000.0,34000000.0,33500000.0,33000000.0,33000000.0,33000000.0,32500000.0,32000000.0,32000000.0,32000000.0,31500000.0,31500000.0,31500000.0,31500000.0,31500000.0,31500000.0,31000000.0,31000000.0,31000000.0,31000000.0,31000000.0,30500000.0,30500000.0,30500000.0,30500000.0,30500000.0,30500000.0,30500000.0,30500000.0,30000000.0,30000000.0,30000000.0,29500000.0,29000000.0,29000000.0,29000000.0,29000000.0,28500000.0,28500000.0,28500000.0,28000000.0,28000000.0,28000000.0,28000000.0,28000000.0,27500000.0,27500000.0,27500000.0,27500000.0,27500000.0,27500000.0,27000000.0,27000000.0,27000000.0,27000000.0,27000000.0,27000000.0,27000000.0,27000000.0,27000000.0,27000000.0,26500000.0,26500000.0,26500000.0,26500000.0,26500000.0,26000000.0,26000000.0,26000000.0,26000000.0,26000000.0,26000000.0,26000000.0,26000000.0,26000000.0,26000000.0,25500000.0,25500000.0,25500000.0,25500000.0,25500000.0,25500000.0,25500000.0,25000000.0,25000000.0,25000000.0,25000000.0,25000000.0,25000000.0,24500000.0,24500000.0,24500000.0,24500000.0,24500000.0,24500000.0,24500000.0,24500000.0,24000000.0,24000000.0,24000000.0,24000000.0,24000000.0,23500000.0,23500000.0,23500000.0,23000000.0,23000000.0,23000000.0,23000000.0,23000000.0,23000000.0,23000000.0,22500000.0,22500000.0,22500000.0,22500000.0,22500000.0,22500000.0,22500000.0,22500000.0,22500000.0,22500000.0,22000000.0,22000000.0,22000000.0,22000000.0,22000000.0,22000000.0,22000000.0,21500000.0,21500000.0,21500000.0,21500000.0,21500000.0,21500000.0,21500000.0,21000000.0,21000000.0,21000000.0,21000000.0,21000000.0,21000000.0,21000000.0,21000000.0,21000000.0,21000000.0,21000000.0,21000000.0,21000000.0,20500000.0,20500000.0,20500000.0,20500000.0,20500000.0,20500000.0,20500000.0,20500000.0,20500000.0,20500000.0,20500000.0,20500000.0,20000000.0,20000000.0,20000000.0,20000000.0,20000000.0,20000000.0,20000000.0,20000000.0,20000000.0,20000000.0,20000000.0,20000000.0,19500000.0,19500000.0,19500000.0,19500000.0,19500000.0,19500000.0,19500000.0,19500000.0,19500000.0,19500000.0,19500000.0,19500000.0,19500000.0,19500000.0,19500000.0,19000000.0,19000000.0,19000000.0,19000000.0,19000000.0,19000000.0,19000000.0,19000000.0,19000000.0,19000000.0,19000000.0,19000000.0,19000000.0,18500000.0,18500000.0,18500000.0,18500000.0,18500000.0],\"yaxis\":\"y\",\"type\":\"scatter\"}],                        {\"template\":{\"data\":{\"histogram2dcontour\":[{\"type\":\"histogram2dcontour\",\"colorbar\":{\"outlinewidth\":0,\"ticks\":\"\"},\"colorscale\":[[0.0,\"#0d0887\"],[0.1111111111111111,\"#46039f\"],[0.2222222222222222,\"#7201a8\"],[0.3333333333333333,\"#9c179e\"],[0.4444444444444444,\"#bd3786\"],[0.5555555555555556,\"#d8576b\"],[0.6666666666666666,\"#ed7953\"],[0.7777777777777778,\"#fb9f3a\"],[0.8888888888888888,\"#fdca26\"],[1.0,\"#f0f921\"]]}],\"choropleth\":[{\"type\":\"choropleth\",\"colorbar\":{\"outlinewidth\":0,\"ticks\":\"\"}}],\"histogram2d\":[{\"type\":\"histogram2d\",\"colorbar\":{\"outlinewidth\":0,\"ticks\":\"\"},\"colorscale\":[[0.0,\"#0d0887\"],[0.1111111111111111,\"#46039f\"],[0.2222222222222222,\"#7201a8\"],[0.3333333333333333,\"#9c179e\"],[0.4444444444444444,\"#bd3786\"],[0.5555555555555556,\"#d8576b\"],[0.6666666666666666,\"#ed7953\"],[0.7777777777777778,\"#fb9f3a\"],[0.8888888888888888,\"#fdca26\"],[1.0,\"#f0f921\"]]}],\"heatmap\":[{\"type\":\"heatmap\",\"colorbar\":{\"outlinewidth\":0,\"ticks\":\"\"},\"colorscale\":[[0.0,\"#0d0887\"],[0.1111111111111111,\"#46039f\"],[0.2222222222222222,\"#7201a8\"],[0.3333333333333333,\"#9c179e\"],[0.4444444444444444,\"#bd3786\"],[0.5555555555555556,\"#d8576b\"],[0.6666666666666666,\"#ed7953\"],[0.7777777777777778,\"#fb9f3a\"],[0.8888888888888888,\"#fdca26\"],[1.0,\"#f0f921\"]]}],\"heatmapgl\":[{\"type\":\"heatmapgl\",\"colorbar\":{\"outlinewidth\":0,\"ticks\":\"\"},\"colorscale\":[[0.0,\"#0d0887\"],[0.1111111111111111,\"#46039f\"],[0.2222222222222222,\"#7201a8\"],[0.3333333333333333,\"#9c179e\"],[0.4444444444444444,\"#bd3786\"],[0.5555555555555556,\"#d8576b\"],[0.6666666666666666,\"#ed7953\"],[0.7777777777777778,\"#fb9f3a\"],[0.8888888888888888,\"#fdca26\"],[1.0,\"#f0f921\"]]}],\"contourcarpet\":[{\"type\":\"contourcarpet\",\"colorbar\":{\"outlinewidth\":0,\"ticks\":\"\"}}],\"contour\":[{\"type\":\"contour\",\"colorbar\":{\"outlinewidth\":0,\"ticks\":\"\"},\"colorscale\":[[0.0,\"#0d0887\"],[0.1111111111111111,\"#46039f\"],[0.2222222222222222,\"#7201a8\"],[0.3333333333333333,\"#9c179e\"],[0.4444444444444444,\"#bd3786\"],[0.5555555555555556,\"#d8576b\"],[0.6666666666666666,\"#ed7953\"],[0.7777777777777778,\"#fb9f3a\"],[0.8888888888888888,\"#fdca26\"],[1.0,\"#f0f921\"]]}],\"surface\":[{\"type\":\"surface\",\"colorbar\":{\"outlinewidth\":0,\"ticks\":\"\"},\"colorscale\":[[0.0,\"#0d0887\"],[0.1111111111111111,\"#46039f\"],[0.2222222222222222,\"#7201a8\"],[0.3333333333333333,\"#9c179e\"],[0.4444444444444444,\"#bd3786\"],[0.5555555555555556,\"#d8576b\"],[0.6666666666666666,\"#ed7953\"],[0.7777777777777778,\"#fb9f3a\"],[0.8888888888888888,\"#fdca26\"],[1.0,\"#f0f921\"]]}],\"mesh3d\":[{\"type\":\"mesh3d\",\"colorbar\":{\"outlinewidth\":0,\"ticks\":\"\"}}],\"scatter\":[{\"fillpattern\":{\"fillmode\":\"overlay\",\"size\":10,\"solidity\":0.2},\"type\":\"scatter\"}],\"parcoords\":[{\"type\":\"parcoords\",\"line\":{\"colorbar\":{\"outlinewidth\":0,\"ticks\":\"\"}}}],\"scatterpolargl\":[{\"type\":\"scatterpolargl\",\"marker\":{\"colorbar\":{\"outlinewidth\":0,\"ticks\":\"\"}}}],\"bar\":[{\"error_x\":{\"color\":\"#2a3f5f\"},\"error_y\":{\"color\":\"#2a3f5f\"},\"marker\":{\"line\":{\"color\":\"#E5ECF6\",\"width\":0.5},\"pattern\":{\"fillmode\":\"overlay\",\"size\":10,\"solidity\":0.2}},\"type\":\"bar\"}],\"scattergeo\":[{\"type\":\"scattergeo\",\"marker\":{\"colorbar\":{\"outlinewidth\":0,\"ticks\":\"\"}}}],\"scatterpolar\":[{\"type\":\"scatterpolar\",\"marker\":{\"colorbar\":{\"outlinewidth\":0,\"ticks\":\"\"}}}],\"histogram\":[{\"marker\":{\"pattern\":{\"fillmode\":\"overlay\",\"size\":10,\"solidity\":0.2}},\"type\":\"histogram\"}],\"scattergl\":[{\"type\":\"scattergl\",\"marker\":{\"colorbar\":{\"outlinewidth\":0,\"ticks\":\"\"}}}],\"scatter3d\":[{\"type\":\"scatter3d\",\"line\":{\"colorbar\":{\"outlinewidth\":0,\"ticks\":\"\"}},\"marker\":{\"colorbar\":{\"outlinewidth\":0,\"ticks\":\"\"}}}],\"scattermapbox\":[{\"type\":\"scattermapbox\",\"marker\":{\"colorbar\":{\"outlinewidth\":0,\"ticks\":\"\"}}}],\"scatterternary\":[{\"type\":\"scatterternary\",\"marker\":{\"colorbar\":{\"outlinewidth\":0,\"ticks\":\"\"}}}],\"scattercarpet\":[{\"type\":\"scattercarpet\",\"marker\":{\"colorbar\":{\"outlinewidth\":0,\"ticks\":\"\"}}}],\"carpet\":[{\"aaxis\":{\"endlinecolor\":\"#2a3f5f\",\"gridcolor\":\"white\",\"linecolor\":\"white\",\"minorgridcolor\":\"white\",\"startlinecolor\":\"#2a3f5f\"},\"baxis\":{\"endlinecolor\":\"#2a3f5f\",\"gridcolor\":\"white\",\"linecolor\":\"white\",\"minorgridcolor\":\"white\",\"startlinecolor\":\"#2a3f5f\"},\"type\":\"carpet\"}],\"table\":[{\"cells\":{\"fill\":{\"color\":\"#EBF0F8\"},\"line\":{\"color\":\"white\"}},\"header\":{\"fill\":{\"color\":\"#C8D4E3\"},\"line\":{\"color\":\"white\"}},\"type\":\"table\"}],\"barpolar\":[{\"marker\":{\"line\":{\"color\":\"#E5ECF6\",\"width\":0.5},\"pattern\":{\"fillmode\":\"overlay\",\"size\":10,\"solidity\":0.2}},\"type\":\"barpolar\"}],\"pie\":[{\"automargin\":true,\"type\":\"pie\"}]},\"layout\":{\"autotypenumbers\":\"strict\",\"colorway\":[\"#636efa\",\"#EF553B\",\"#00cc96\",\"#ab63fa\",\"#FFA15A\",\"#19d3f3\",\"#FF6692\",\"#B6E880\",\"#FF97FF\",\"#FECB52\"],\"font\":{\"color\":\"#2a3f5f\"},\"hovermode\":\"closest\",\"hoverlabel\":{\"align\":\"left\"},\"paper_bgcolor\":\"white\",\"plot_bgcolor\":\"#E5ECF6\",\"polar\":{\"bgcolor\":\"#E5ECF6\",\"angularaxis\":{\"gridcolor\":\"white\",\"linecolor\":\"white\",\"ticks\":\"\"},\"radialaxis\":{\"gridcolor\":\"white\",\"linecolor\":\"white\",\"ticks\":\"\"}},\"ternary\":{\"bgcolor\":\"#E5ECF6\",\"aaxis\":{\"gridcolor\":\"white\",\"linecolor\":\"white\",\"ticks\":\"\"},\"baxis\":{\"gridcolor\":\"white\",\"linecolor\":\"white\",\"ticks\":\"\"},\"caxis\":{\"gridcolor\":\"white\",\"linecolor\":\"white\",\"ticks\":\"\"}},\"coloraxis\":{\"colorbar\":{\"outlinewidth\":0,\"ticks\":\"\"}},\"colorscale\":{\"sequential\":[[0.0,\"#0d0887\"],[0.1111111111111111,\"#46039f\"],[0.2222222222222222,\"#7201a8\"],[0.3333333333333333,\"#9c179e\"],[0.4444444444444444,\"#bd3786\"],[0.5555555555555556,\"#d8576b\"],[0.6666666666666666,\"#ed7953\"],[0.7777777777777778,\"#fb9f3a\"],[0.8888888888888888,\"#fdca26\"],[1.0,\"#f0f921\"]],\"sequentialminus\":[[0.0,\"#0d0887\"],[0.1111111111111111,\"#46039f\"],[0.2222222222222222,\"#7201a8\"],[0.3333333333333333,\"#9c179e\"],[0.4444444444444444,\"#bd3786\"],[0.5555555555555556,\"#d8576b\"],[0.6666666666666666,\"#ed7953\"],[0.7777777777777778,\"#fb9f3a\"],[0.8888888888888888,\"#fdca26\"],[1.0,\"#f0f921\"]],\"diverging\":[[0,\"#8e0152\"],[0.1,\"#c51b7d\"],[0.2,\"#de77ae\"],[0.3,\"#f1b6da\"],[0.4,\"#fde0ef\"],[0.5,\"#f7f7f7\"],[0.6,\"#e6f5d0\"],[0.7,\"#b8e186\"],[0.8,\"#7fbc41\"],[0.9,\"#4d9221\"],[1,\"#276419\"]]},\"xaxis\":{\"gridcolor\":\"white\",\"linecolor\":\"white\",\"ticks\":\"\",\"title\":{\"standoff\":15},\"zerolinecolor\":\"white\",\"automargin\":true,\"zerolinewidth\":2},\"yaxis\":{\"gridcolor\":\"white\",\"linecolor\":\"white\",\"ticks\":\"\",\"title\":{\"standoff\":15},\"zerolinecolor\":\"white\",\"automargin\":true,\"zerolinewidth\":2},\"scene\":{\"xaxis\":{\"backgroundcolor\":\"#E5ECF6\",\"gridcolor\":\"white\",\"linecolor\":\"white\",\"showbackground\":true,\"ticks\":\"\",\"zerolinecolor\":\"white\",\"gridwidth\":2},\"yaxis\":{\"backgroundcolor\":\"#E5ECF6\",\"gridcolor\":\"white\",\"linecolor\":\"white\",\"showbackground\":true,\"ticks\":\"\",\"zerolinecolor\":\"white\",\"gridwidth\":2},\"zaxis\":{\"backgroundcolor\":\"#E5ECF6\",\"gridcolor\":\"white\",\"linecolor\":\"white\",\"showbackground\":true,\"ticks\":\"\",\"zerolinecolor\":\"white\",\"gridwidth\":2}},\"shapedefaults\":{\"line\":{\"color\":\"#2a3f5f\"}},\"annotationdefaults\":{\"arrowcolor\":\"#2a3f5f\",\"arrowhead\":0,\"arrowwidth\":1},\"geo\":{\"bgcolor\":\"white\",\"landcolor\":\"#E5ECF6\",\"subunitcolor\":\"white\",\"showland\":true,\"showlakes\":true,\"lakecolor\":\"white\"},\"title\":{\"x\":0.05},\"mapbox\":{\"style\":\"light\"}}},\"xaxis\":{\"anchor\":\"y\",\"domain\":[0.0,1.0],\"title\":{\"text\":\"Wage\"}},\"yaxis\":{\"anchor\":\"x\",\"domain\":[0.0,1.0],\"title\":{\"text\":\"Value\"}},\"legend\":{\"tracegroupgap\":0},\"margin\":{\"t\":60}},                        {\"responsive\": true}                    ).then(function(){\n",
       "                            \n",
       "var gd = document.getElementById('1d68f655-d725-4c5d-84cf-14fd9d837e77');\n",
       "var x = new MutationObserver(function (mutations, observer) {{\n",
       "        var display = window.getComputedStyle(gd).display;\n",
       "        if (!display || display === 'none') {{\n",
       "            console.log([gd, 'removed!']);\n",
       "            Plotly.purge(gd);\n",
       "            observer.disconnect();\n",
       "        }}\n",
       "}});\n",
       "\n",
       "// Listen for the removal of the full notebook cells\n",
       "var notebookContainer = gd.closest('#notebook-container');\n",
       "if (notebookContainer) {{\n",
       "    x.observe(notebookContainer, {childList: true});\n",
       "}}\n",
       "\n",
       "// Listen for the clearing of the current output cell\n",
       "var outputEl = gd.closest('.output');\n",
       "if (outputEl) {{\n",
       "    x.observe(outputEl, {childList: true});\n",
       "}}\n",
       "\n",
       "                        })                };                });            </script>        </div>"
      ]
     },
     "metadata": {},
     "output_type": "display_data"
    }
   ],
   "source": [
    "px.scatter(df[1:300],x = \"Wage\",y = \"Value\", hover_data = [\"Name\"])"
   ]
  },
  {
   "cell_type": "markdown",
   "id": "680db159",
   "metadata": {},
   "source": [
    "The code above was to create an interactive scatter plot between player's wages and values."
   ]
  },
  {
   "cell_type": "code",
   "execution_count": 252,
   "id": "45dddec8",
   "metadata": {},
   "outputs": [],
   "source": [
    "df.to_csv(\"Cleaned Dataset.csv\")"
   ]
  }
 ],
 "metadata": {
  "kernelspec": {
   "display_name": "Python 3 (ipykernel)",
   "language": "python",
   "name": "python3"
  },
  "language_info": {
   "codemirror_mode": {
    "name": "ipython",
    "version": 3
   },
   "file_extension": ".py",
   "mimetype": "text/x-python",
   "name": "python",
   "nbconvert_exporter": "python",
   "pygments_lexer": "ipython3",
   "version": "3.10.9"
  }
 },
 "nbformat": 4,
 "nbformat_minor": 5
}
